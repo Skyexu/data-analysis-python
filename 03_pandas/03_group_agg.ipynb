{
 "cells": [
  {
   "cell_type": "markdown",
   "metadata": {},
   "source": [
    "# Pandas 分组与聚合"
   ]
  },
  {
   "cell_type": "markdown",
   "metadata": {},
   "source": [
    "## 层级索引（hierarchical indexing）\n",
    "\n",
    "常用于分组操作，透视表的生成等"
   ]
  },
  {
   "cell_type": "code",
   "execution_count": 1,
   "metadata": {
    "collapsed": true
   },
   "outputs": [],
   "source": [
    "import pandas as pd\n",
    "import numpy as np"
   ]
  },
  {
   "cell_type": "code",
   "execution_count": 2,
   "metadata": {
    "collapsed": false
   },
   "outputs": [
    {
     "name": "stdout",
     "output_type": "stream",
     "text": [
      "a  0   -2.473549\n",
      "   1    0.895329\n",
      "   2    1.239202\n",
      "b  0    0.023345\n",
      "   1    0.597253\n",
      "   2    0.753962\n",
      "c  0    0.591192\n",
      "   1    1.252330\n",
      "   2    3.507989\n",
      "d  0    0.560484\n",
      "   1   -0.363496\n",
      "   2    0.811888\n",
      "dtype: float64\n"
     ]
    }
   ],
   "source": [
    "ser_obj = pd.Series(np.random.randn(12),index=[['a', 'a', 'a', 'b', 'b', 'b', 'c', 'c', 'c', 'd', 'd', 'd'],\n",
    "                           [0, 1, 2, 0, 1, 2, 0, 1, 2, 0, 1, 2]])\n",
    "print(ser_obj)"
   ]
  },
  {
   "cell_type": "markdown",
   "metadata": {},
   "source": [
    "### MultiIndex索引对象\n",
    "\n",
    "分为内层与外层索引"
   ]
  },
  {
   "cell_type": "code",
   "execution_count": 3,
   "metadata": {
    "collapsed": false
   },
   "outputs": [
    {
     "name": "stdout",
     "output_type": "stream",
     "text": [
      "<class 'pandas.core.indexes.multi.MultiIndex'>\n",
      "MultiIndex(levels=[['a', 'b', 'c', 'd'], [0, 1, 2]],\n",
      "           labels=[[0, 0, 0, 1, 1, 1, 2, 2, 2, 3, 3, 3], [0, 1, 2, 0, 1, 2, 0, 1, 2, 0, 1, 2]])\n"
     ]
    }
   ],
   "source": [
    "print(type(ser_obj.index))\n",
    "print(ser_obj.index)"
   ]
  },
  {
   "cell_type": "markdown",
   "metadata": {},
   "source": [
    "### 选取子集"
   ]
  },
  {
   "cell_type": "code",
   "execution_count": 17,
   "metadata": {
    "collapsed": false,
    "scrolled": true
   },
   "outputs": [
    {
     "name": "stdout",
     "output_type": "stream",
     "text": [
      "0    0.591192\n",
      "1    1.252330\n",
      "2    3.507989\n",
      "dtype: float64\n"
     ]
    }
   ],
   "source": [
    "# 外层选取\n",
    "print(ser_obj['c'])"
   ]
  },
  {
   "cell_type": "code",
   "execution_count": 5,
   "metadata": {
    "collapsed": false
   },
   "outputs": [
    {
     "name": "stdout",
     "output_type": "stream",
     "text": [
      "a    1.239202\n",
      "b    0.753962\n",
      "c    3.507989\n",
      "d    0.811888\n",
      "dtype: float64\n"
     ]
    }
   ],
   "source": [
    "# 内层选取\n",
    "print(ser_obj[:, 2])"
   ]
  },
  {
   "cell_type": "markdown",
   "metadata": {},
   "source": [
    "### 层级操作"
   ]
  },
  {
   "cell_type": "code",
   "execution_count": 6,
   "metadata": {
    "collapsed": false
   },
   "outputs": [
    {
     "name": "stdout",
     "output_type": "stream",
     "text": [
      "0  a   -2.473549\n",
      "1  a    0.895329\n",
      "2  a    1.239202\n",
      "0  b    0.023345\n",
      "1  b    0.597253\n",
      "2  b    0.753962\n",
      "0  c    0.591192\n",
      "1  c    1.252330\n",
      "2  c    3.507989\n",
      "0  d    0.560484\n",
      "1  d   -0.363496\n",
      "2  d    0.811888\n",
      "dtype: float64\n"
     ]
    }
   ],
   "source": [
    "# 交换分层顺序\n",
    "print(ser_obj.swaplevel())"
   ]
  },
  {
   "cell_type": "code",
   "execution_count": 8,
   "metadata": {
    "collapsed": false
   },
   "outputs": [
    {
     "name": "stdout",
     "output_type": "stream",
     "text": [
      "0  a   -2.473549\n",
      "   b    0.023345\n",
      "   c    0.591192\n",
      "   d    0.560484\n",
      "1  a    0.895329\n",
      "   b    0.597253\n",
      "   c    1.252330\n",
      "   d   -0.363496\n",
      "2  a    1.239202\n",
      "   b    0.753962\n",
      "   c    3.507989\n",
      "   d    0.811888\n",
      "dtype: float64\n"
     ]
    }
   ],
   "source": [
    "# 交换并排序分层\n",
    "print(ser_obj.swaplevel().sort_index())"
   ]
  },
  {
   "cell_type": "markdown",
   "metadata": {},
   "source": [
    "##  分组 GroupBy"
   ]
  },
  {
   "cell_type": "markdown",
   "metadata": {},
   "source": [
    "### GroupBy 对象"
   ]
  },
  {
   "cell_type": "code",
   "execution_count": 9,
   "metadata": {
    "collapsed": true
   },
   "outputs": [],
   "source": [
    "import pandas as pd\n",
    "import numpy as np"
   ]
  },
  {
   "cell_type": "code",
   "execution_count": 10,
   "metadata": {
    "collapsed": false
   },
   "outputs": [
    {
     "name": "stdout",
     "output_type": "stream",
     "text": [
      "      data1     data2 key1   key2\n",
      "0  0.362332  0.672696    a    one\n",
      "1  0.151453  0.960367    b    one\n",
      "2 -0.630200  1.185972    a    two\n",
      "3  1.191360 -0.474772    b  three\n",
      "4 -1.417819  1.107364    a    two\n",
      "5 -0.047919  0.712258    b    two\n",
      "6 -0.216123  0.094480    a    one\n",
      "7  2.269779 -0.276750    a  three\n"
     ]
    }
   ],
   "source": [
    "dict_obj = {'key1':['a', 'b', 'a', 'b', \n",
    "                      'a', 'b', 'a', 'a'],\n",
    "           'key2' : ['one', 'one', 'two', 'three',\n",
    "                      'two', 'two', 'one', 'three'],\n",
    "            'data1': np.random.randn(8),\n",
    "            'data2': np.random.randn(8)}\n",
    "df_obj = pd.DataFrame(dict_obj)\n",
    "print(df_obj)"
   ]
  },
  {
   "cell_type": "code",
   "execution_count": 11,
   "metadata": {
    "collapsed": false,
    "scrolled": true
   },
   "outputs": [
    {
     "name": "stdout",
     "output_type": "stream",
     "text": [
      "<class 'pandas.core.groupby.DataFrameGroupBy'>\n"
     ]
    }
   ],
   "source": [
    "# dataframe根据key1进行分组\n",
    "print(type(df_obj.groupby('key1')))"
   ]
  },
  {
   "cell_type": "code",
   "execution_count": 12,
   "metadata": {
    "collapsed": false
   },
   "outputs": [
    {
     "name": "stdout",
     "output_type": "stream",
     "text": [
      "<class 'pandas.core.groupby.SeriesGroupBy'>\n"
     ]
    }
   ],
   "source": [
    "# data1列根据key1进行分组\n",
    "print(type(df_obj['data1'].groupby(df_obj['key1'])))"
   ]
  },
  {
   "cell_type": "code",
   "execution_count": 16,
   "metadata": {
    "collapsed": false
   },
   "outputs": [
    {
     "name": "stdout",
     "output_type": "stream",
     "text": [
      "         data1     data2\n",
      "key1                    \n",
      "a     0.073594  0.556752\n",
      "b     0.431631  0.399285\n",
      "key1\n",
      "a    0.073594\n",
      "b    0.431631\n",
      "Name: data1, dtype: float64\n"
     ]
    }
   ],
   "source": [
    "# 分组运算\n",
    "grouped1 = df_obj.groupby('key1')\n",
    "print(grouped1.mean())\n",
    "\n",
    "grouped2 = df_obj['data1'].groupby(df_obj['key1'])\n",
    "print(grouped2.mean())"
   ]
  },
  {
   "cell_type": "code",
   "execution_count": 21,
   "metadata": {
    "collapsed": false
   },
   "outputs": [
    {
     "data": {
      "text/plain": [
       "1    5\n",
       "2    3\n",
       "dtype: int64"
      ]
     },
     "execution_count": 21,
     "metadata": {},
     "output_type": "execute_result"
    }
   ],
   "source": [
    "# 按自定义key分组，列表\n",
    "\n",
    "self_def_key = [1, 1, 2, 2, 2, 1, 1, 1]\n",
    "df_obj.groupby(self_def_key).size()"
   ]
  },
  {
   "cell_type": "code",
   "execution_count": 22,
   "metadata": {
    "collapsed": false
   },
   "outputs": [
    {
     "data": {
      "text/plain": [
       "key1  key2 \n",
       "a     one      2\n",
       "      three    1\n",
       "      two      2\n",
       "b     one      1\n",
       "      three    1\n",
       "      two      1\n",
       "dtype: int64"
      ]
     },
     "execution_count": 22,
     "metadata": {},
     "output_type": "execute_result"
    }
   ],
   "source": [
    "# 按自定义key分组，多层列表\n",
    "\n",
    "df_obj.groupby([df_obj['key1'],df_obj['key2']]).size()"
   ]
  },
  {
   "cell_type": "code",
   "execution_count": 23,
   "metadata": {
    "collapsed": false
   },
   "outputs": [
    {
     "name": "stdout",
     "output_type": "stream",
     "text": [
      "key1  key2 \n",
      "a     one      2\n",
      "      three    1\n",
      "      two      2\n",
      "b     one      1\n",
      "      three    1\n",
      "      two      1\n",
      "dtype: int64\n"
     ]
    }
   ],
   "source": [
    "# 按多个列多层分组\n",
    "grouped2 = df_obj.groupby(['key1', 'key2'])\n",
    "print(grouped2.size())"
   ]
  },
  {
   "cell_type": "code",
   "execution_count": 24,
   "metadata": {
    "collapsed": false
   },
   "outputs": [
    {
     "name": "stdout",
     "output_type": "stream",
     "text": [
      "               data1     data2\n",
      "key2  key1                    \n",
      "one   a     0.073105  0.383588\n",
      "      b     0.151453  0.960367\n",
      "three a     2.269779 -0.276750\n",
      "      b     1.191360 -0.474772\n",
      "two   a    -1.024009  1.146668\n",
      "      b    -0.047919  0.712258\n",
      "\n",
      "          data1               data2          \n",
      "key1          a         b         a         b\n",
      "key2                                         \n",
      "one    0.073105  0.151453  0.383588  0.960367\n",
      "three  2.269779  1.191360 -0.276750 -0.474772\n",
      "two   -1.024009 -0.047919  1.146668  0.712258\n"
     ]
    }
   ],
   "source": [
    "# 多层分组按key的顺序进行\n",
    "grouped3 = df_obj.groupby(['key2', 'key1'])\n",
    "print(grouped3.mean())\n",
    "print()\n",
    "print(grouped3.mean().unstack())"
   ]
  },
  {
   "cell_type": "markdown",
   "metadata": {},
   "source": [
    "### GroupBy对象分组迭代"
   ]
  },
  {
   "cell_type": "code",
   "execution_count": 27,
   "metadata": {
    "collapsed": false
   },
   "outputs": [
    {
     "name": "stdout",
     "output_type": "stream",
     "text": [
      "a\n",
      "      data1     data2 key1   key2\n",
      "0  0.362332  0.672696    a    one\n",
      "2 -0.630200  1.185972    a    two\n",
      "4 -1.417819  1.107364    a    two\n",
      "6 -0.216123  0.094480    a    one\n",
      "7  2.269779 -0.276750    a  three\n",
      "b\n",
      "      data1     data2 key1   key2\n",
      "1  0.151453  0.960367    b    one\n",
      "3  1.191360 -0.474772    b  three\n",
      "5 -0.047919  0.712258    b    two\n"
     ]
    }
   ],
   "source": [
    "# 单层分组\n",
    "for group_name, group_data in grouped1:\n",
    "    print(group_name)\n",
    "    print(group_data)"
   ]
  },
  {
   "cell_type": "code",
   "execution_count": 28,
   "metadata": {
    "collapsed": false
   },
   "outputs": [
    {
     "name": "stdout",
     "output_type": "stream",
     "text": [
      "('a', 'one')\n",
      "      data1     data2 key1 key2\n",
      "0  0.362332  0.672696    a  one\n",
      "6 -0.216123  0.094480    a  one\n",
      "('a', 'three')\n",
      "      data1    data2 key1   key2\n",
      "7  2.269779 -0.27675    a  three\n",
      "('a', 'two')\n",
      "      data1     data2 key1 key2\n",
      "2 -0.630200  1.185972    a  two\n",
      "4 -1.417819  1.107364    a  two\n",
      "('b', 'one')\n",
      "      data1     data2 key1 key2\n",
      "1  0.151453  0.960367    b  one\n",
      "('b', 'three')\n",
      "     data1     data2 key1   key2\n",
      "3  1.19136 -0.474772    b  three\n",
      "('b', 'two')\n",
      "      data1     data2 key1 key2\n",
      "5 -0.047919  0.712258    b  two\n"
     ]
    }
   ],
   "source": [
    "# 多层分组\n",
    "for group_name, group_data in grouped2:\n",
    "    print(group_name)\n",
    "    print(group_data)"
   ]
  },
  {
   "cell_type": "code",
   "execution_count": 29,
   "metadata": {
    "collapsed": false
   },
   "outputs": [
    {
     "data": {
      "text/plain": [
       "[('a',       data1     data2 key1   key2\n",
       "  0  0.362332  0.672696    a    one\n",
       "  2 -0.630200  1.185972    a    two\n",
       "  4 -1.417819  1.107364    a    two\n",
       "  6 -0.216123  0.094480    a    one\n",
       "  7  2.269779 -0.276750    a  three), ('b',       data1     data2 key1   key2\n",
       "  1  0.151453  0.960367    b    one\n",
       "  3  1.191360 -0.474772    b  three\n",
       "  5 -0.047919  0.712258    b    two)]"
      ]
     },
     "execution_count": 29,
     "metadata": {},
     "output_type": "execute_result"
    }
   ],
   "source": [
    "# GroupBy对象转换list\n",
    "list(grouped1)"
   ]
  },
  {
   "cell_type": "code",
   "execution_count": 32,
   "metadata": {
    "collapsed": false
   },
   "outputs": [
    {
     "data": {
      "text/plain": [
       "{'a':       data1     data2 key1   key2\n",
       " 0  0.362332  0.672696    a    one\n",
       " 2 -0.630200  1.185972    a    two\n",
       " 4 -1.417819  1.107364    a    two\n",
       " 6 -0.216123  0.094480    a    one\n",
       " 7  2.269779 -0.276750    a  three, 'b':       data1     data2 key1   key2\n",
       " 1  0.151453  0.960367    b    one\n",
       " 3  1.191360 -0.474772    b  three\n",
       " 5 -0.047919  0.712258    b    two}"
      ]
     },
     "execution_count": 32,
     "metadata": {},
     "output_type": "execute_result"
    }
   ],
   "source": [
    "# GroupBy对象转换dict\n",
    "dict(list(grouped1))"
   ]
  },
  {
   "cell_type": "code",
   "execution_count": 37,
   "metadata": {
    "collapsed": false
   },
   "outputs": [
    {
     "name": "stdout",
     "output_type": "stream",
     "text": [
      "data1    float64\n",
      "data2    float64\n",
      "key1      object\n",
      "key2      object\n",
      "dtype: object\n",
      "\n",
      "float64    2\n",
      "object     2\n",
      "dtype: int64\n"
     ]
    },
    {
     "data": {
      "text/html": [
       "<div>\n",
       "<style>\n",
       "    .dataframe thead tr:only-child th {\n",
       "        text-align: right;\n",
       "    }\n",
       "\n",
       "    .dataframe thead th {\n",
       "        text-align: left;\n",
       "    }\n",
       "\n",
       "    .dataframe tbody tr th {\n",
       "        vertical-align: top;\n",
       "    }\n",
       "</style>\n",
       "<table border=\"1\" class=\"dataframe\">\n",
       "  <thead>\n",
       "    <tr style=\"text-align: right;\">\n",
       "      <th></th>\n",
       "      <th>float64</th>\n",
       "      <th>object</th>\n",
       "    </tr>\n",
       "  </thead>\n",
       "  <tbody>\n",
       "    <tr>\n",
       "      <th>0</th>\n",
       "      <td>1.035029</td>\n",
       "      <td>aone</td>\n",
       "    </tr>\n",
       "    <tr>\n",
       "      <th>1</th>\n",
       "      <td>1.111820</td>\n",
       "      <td>bone</td>\n",
       "    </tr>\n",
       "    <tr>\n",
       "      <th>2</th>\n",
       "      <td>0.555772</td>\n",
       "      <td>atwo</td>\n",
       "    </tr>\n",
       "    <tr>\n",
       "      <th>3</th>\n",
       "      <td>0.716588</td>\n",
       "      <td>bthree</td>\n",
       "    </tr>\n",
       "    <tr>\n",
       "      <th>4</th>\n",
       "      <td>-0.310455</td>\n",
       "      <td>atwo</td>\n",
       "    </tr>\n",
       "    <tr>\n",
       "      <th>5</th>\n",
       "      <td>0.664339</td>\n",
       "      <td>btwo</td>\n",
       "    </tr>\n",
       "    <tr>\n",
       "      <th>6</th>\n",
       "      <td>-0.121643</td>\n",
       "      <td>aone</td>\n",
       "    </tr>\n",
       "    <tr>\n",
       "      <th>7</th>\n",
       "      <td>1.993029</td>\n",
       "      <td>athree</td>\n",
       "    </tr>\n",
       "  </tbody>\n",
       "</table>\n",
       "</div>"
      ],
      "text/plain": [
       "    float64  object\n",
       "0  1.035029    aone\n",
       "1  1.111820    bone\n",
       "2  0.555772    atwo\n",
       "3  0.716588  bthree\n",
       "4 -0.310455    atwo\n",
       "5  0.664339    btwo\n",
       "6 -0.121643    aone\n",
       "7  1.993029  athree"
      ]
     },
     "execution_count": 37,
     "metadata": {},
     "output_type": "execute_result"
    }
   ],
   "source": [
    "# 按数据类型分组\n",
    "print(df_obj.dtypes)\n",
    "print()\n",
    "\n",
    "print(df_obj.groupby(df_obj.dtypes, axis=1).size())\n",
    "df_obj.groupby(df_obj.dtypes, axis=1).sum()"
   ]
  },
  {
   "cell_type": "markdown",
   "metadata": {},
   "source": [
    "### 其他分组方法"
   ]
  },
  {
   "cell_type": "code",
   "execution_count": 39,
   "metadata": {
    "collapsed": false
   },
   "outputs": [
    {
     "data": {
      "text/html": [
       "<div>\n",
       "<style>\n",
       "    .dataframe thead tr:only-child th {\n",
       "        text-align: right;\n",
       "    }\n",
       "\n",
       "    .dataframe thead th {\n",
       "        text-align: left;\n",
       "    }\n",
       "\n",
       "    .dataframe tbody tr th {\n",
       "        vertical-align: top;\n",
       "    }\n",
       "</style>\n",
       "<table border=\"1\" class=\"dataframe\">\n",
       "  <thead>\n",
       "    <tr style=\"text-align: right;\">\n",
       "      <th></th>\n",
       "      <th>a</th>\n",
       "      <th>b</th>\n",
       "      <th>c</th>\n",
       "      <th>d</th>\n",
       "      <th>e</th>\n",
       "    </tr>\n",
       "  </thead>\n",
       "  <tbody>\n",
       "    <tr>\n",
       "      <th>A</th>\n",
       "      <td>7</td>\n",
       "      <td>4.0</td>\n",
       "      <td>9.0</td>\n",
       "      <td>7.0</td>\n",
       "      <td>5</td>\n",
       "    </tr>\n",
       "    <tr>\n",
       "      <th>B</th>\n",
       "      <td>3</td>\n",
       "      <td>NaN</td>\n",
       "      <td>NaN</td>\n",
       "      <td>NaN</td>\n",
       "      <td>6</td>\n",
       "    </tr>\n",
       "    <tr>\n",
       "      <th>C</th>\n",
       "      <td>9</td>\n",
       "      <td>8.0</td>\n",
       "      <td>4.0</td>\n",
       "      <td>3.0</td>\n",
       "      <td>7</td>\n",
       "    </tr>\n",
       "    <tr>\n",
       "      <th>D</th>\n",
       "      <td>6</td>\n",
       "      <td>7.0</td>\n",
       "      <td>9.0</td>\n",
       "      <td>4.0</td>\n",
       "      <td>1</td>\n",
       "    </tr>\n",
       "    <tr>\n",
       "      <th>E</th>\n",
       "      <td>5</td>\n",
       "      <td>3.0</td>\n",
       "      <td>4.0</td>\n",
       "      <td>2.0</td>\n",
       "      <td>3</td>\n",
       "    </tr>\n",
       "  </tbody>\n",
       "</table>\n",
       "</div>"
      ],
      "text/plain": [
       "   a    b    c    d  e\n",
       "A  7  4.0  9.0  7.0  5\n",
       "B  3  NaN  NaN  NaN  6\n",
       "C  9  8.0  4.0  3.0  7\n",
       "D  6  7.0  9.0  4.0  1\n",
       "E  5  3.0  4.0  2.0  3"
      ]
     },
     "execution_count": 39,
     "metadata": {},
     "output_type": "execute_result"
    }
   ],
   "source": [
    "df_obj2 = pd.DataFrame(np.random.randint(1, 10, (5,5)),\n",
    "                       columns=['a', 'b', 'c', 'd', 'e'],\n",
    "                       index=['A', 'B', 'C', 'D', 'E'])\n",
    "df_obj2.iloc[1, 1:4] = np.NaN\n",
    "df_obj2"
   ]
  },
  {
   "cell_type": "code",
   "execution_count": 42,
   "metadata": {
    "collapsed": false
   },
   "outputs": [
    {
     "name": "stdout",
     "output_type": "stream",
     "text": [
      "C         1\n",
      "java      2\n",
      "python    2\n",
      "dtype: int64\n",
      "   C  java  python\n",
      "A  1     2       2\n",
      "B  0     1       1\n",
      "C  1     2       2\n",
      "D  1     2       2\n",
      "E  1     2       2\n",
      "     C  java  python\n",
      "A  7.0  14.0    11.0\n",
      "B  NaN   6.0     3.0\n",
      "C  3.0  11.0    17.0\n",
      "D  4.0  10.0    13.0\n",
      "E  2.0   7.0     8.0\n"
     ]
    }
   ],
   "source": [
    "# 通过字典分组\n",
    "mapping_dict = {'a':'python', 'b':'python', 'c':'java', 'd':'C', 'e':'java'}\n",
    "print(df_obj2.groupby(mapping_dict, axis=1).size())\n",
    "print(df_obj2.groupby(mapping_dict, axis=1).count()) # 非NaN的个数\n",
    "print(df_obj2.groupby(mapping_dict, axis=1).sum())"
   ]
  },
  {
   "cell_type": "code",
   "execution_count": 49,
   "metadata": {
    "collapsed": false
   },
   "outputs": [
    {
     "name": "stdout",
     "output_type": "stream",
     "text": [
      "     b    c    d  e\n",
      "a                  \n",
      "3  NaN  NaN  NaN  6\n",
      "5  3.0  4.0  2.0  3\n",
      "6  7.0  9.0  4.0  1\n",
      "7  4.0  9.0  7.0  5\n",
      "9  8.0  4.0  3.0  7\n",
      "   a    b    c    d  e\n",
      "0  3  NaN  NaN  NaN  6\n",
      "1  5  3.0  4.0  2.0  3\n",
      "2  6  7.0  9.0  4.0  1\n",
      "3  7  4.0  9.0  7.0  5\n",
      "4  9  8.0  4.0  3.0  7\n"
     ]
    }
   ],
   "source": [
    "print(df_obj2.groupby('a', axis=0).sum())\n",
    "print(df_obj2.groupby('a', axis=0).sum().reset_index())"
   ]
  },
  {
   "cell_type": "code",
   "execution_count": 52,
   "metadata": {
    "collapsed": false
   },
   "outputs": [
    {
     "data": {
      "text/plain": [
       "1    1\n",
       "2    3\n",
       "3    1\n",
       "dtype: int64"
      ]
     },
     "execution_count": 52,
     "metadata": {},
     "output_type": "execute_result"
    }
   ],
   "source": [
    "# 通过函数分组\n",
    "df_obj3 = pd.DataFrame(np.random.randint(1, 10, (5,5)),\n",
    "                       columns=['a', 'b', 'c', 'd', 'e'],\n",
    "                       index=['AA', 'BBB', 'CC', 'D', 'EE'])\n",
    "def group_key(idx):\n",
    "    \"\"\"\n",
    "        idx 为列索引或行索引\n",
    "    \"\"\"\n",
    "    #return idx\n",
    "    return len(idx)\n",
    "\n",
    "df_obj3.groupby(group_key).size()\n",
    "\n",
    "# 以上自定义函数等价于\n",
    "#df_obj3.groupby(len).size()"
   ]
  },
  {
   "cell_type": "code",
   "execution_count": 53,
   "metadata": {
    "collapsed": false
   },
   "outputs": [
    {
     "data": {
      "text/html": [
       "<div>\n",
       "<style>\n",
       "    .dataframe thead tr:only-child th {\n",
       "        text-align: right;\n",
       "    }\n",
       "\n",
       "    .dataframe thead th {\n",
       "        text-align: left;\n",
       "    }\n",
       "\n",
       "    .dataframe tbody tr th {\n",
       "        vertical-align: top;\n",
       "    }\n",
       "</style>\n",
       "<table border=\"1\" class=\"dataframe\">\n",
       "  <thead>\n",
       "    <tr>\n",
       "      <th>language</th>\n",
       "      <th>Python</th>\n",
       "      <th>Java</th>\n",
       "      <th>Python</th>\n",
       "      <th>Java</th>\n",
       "      <th>Python</th>\n",
       "    </tr>\n",
       "    <tr>\n",
       "      <th>index</th>\n",
       "      <th>A</th>\n",
       "      <th>A</th>\n",
       "      <th>B</th>\n",
       "      <th>C</th>\n",
       "      <th>B</th>\n",
       "    </tr>\n",
       "  </thead>\n",
       "  <tbody>\n",
       "    <tr>\n",
       "      <th>0</th>\n",
       "      <td>6</td>\n",
       "      <td>5</td>\n",
       "      <td>7</td>\n",
       "      <td>4</td>\n",
       "      <td>7</td>\n",
       "    </tr>\n",
       "    <tr>\n",
       "      <th>1</th>\n",
       "      <td>1</td>\n",
       "      <td>3</td>\n",
       "      <td>5</td>\n",
       "      <td>3</td>\n",
       "      <td>6</td>\n",
       "    </tr>\n",
       "    <tr>\n",
       "      <th>2</th>\n",
       "      <td>2</td>\n",
       "      <td>3</td>\n",
       "      <td>6</td>\n",
       "      <td>5</td>\n",
       "      <td>6</td>\n",
       "    </tr>\n",
       "    <tr>\n",
       "      <th>3</th>\n",
       "      <td>2</td>\n",
       "      <td>8</td>\n",
       "      <td>5</td>\n",
       "      <td>7</td>\n",
       "      <td>4</td>\n",
       "    </tr>\n",
       "    <tr>\n",
       "      <th>4</th>\n",
       "      <td>4</td>\n",
       "      <td>9</td>\n",
       "      <td>9</td>\n",
       "      <td>3</td>\n",
       "      <td>5</td>\n",
       "    </tr>\n",
       "  </tbody>\n",
       "</table>\n",
       "</div>"
      ],
      "text/plain": [
       "language Python Java Python Java Python\n",
       "index         A    A      B    C      B\n",
       "0             6    5      7    4      7\n",
       "1             1    3      5    3      6\n",
       "2             2    3      6    5      6\n",
       "3             2    8      5    7      4\n",
       "4             4    9      9    3      5"
      ]
     },
     "execution_count": 53,
     "metadata": {},
     "output_type": "execute_result"
    }
   ],
   "source": [
    "# 通过索引级别分组\n",
    "columns = pd.MultiIndex.from_arrays([['Python', 'Java', 'Python', 'Java', 'Python'],\n",
    "                                     ['A', 'A', 'B', 'C', 'B']], names=['language', 'index'])\n",
    "df_obj4 = pd.DataFrame(np.random.randint(1, 10, (5, 5)), columns=columns)\n",
    "df_obj4"
   ]
  },
  {
   "cell_type": "code",
   "execution_count": 54,
   "metadata": {
    "collapsed": false
   },
   "outputs": [
    {
     "name": "stdout",
     "output_type": "stream",
     "text": [
      "language  Java  Python\n",
      "0            9      20\n",
      "1            6      12\n",
      "2            8      14\n",
      "3           15      11\n",
      "4           12      18\n",
      "index   A   B  C\n",
      "0      11  14  4\n",
      "1       4  11  3\n",
      "2       5  12  5\n",
      "3      10   9  7\n",
      "4      13  14  3\n"
     ]
    }
   ],
   "source": [
    "# 根据language进行分组\n",
    "print(df_obj4.groupby(level='language', axis=1).sum())\n",
    "print(df_obj4.groupby(level='index', axis=1).sum())"
   ]
  },
  {
   "cell_type": "markdown",
   "metadata": {},
   "source": [
    "## 聚合"
   ]
  },
  {
   "cell_type": "code",
   "execution_count": 55,
   "metadata": {
    "collapsed": false
   },
   "outputs": [
    {
     "name": "stdout",
     "output_type": "stream",
     "text": [
      "   data1  data2 key1   key2\n",
      "0      2      8    a    one\n",
      "1      7      3    b    one\n",
      "2      5      9    a    two\n",
      "3      3      3    b  three\n",
      "4      1      8    a    two\n",
      "5      6      8    b    two\n",
      "6      1      9    a    one\n",
      "7      2      3    a  three\n"
     ]
    }
   ],
   "source": [
    "dict_obj = {'key1' : ['a', 'b', 'a', 'b', \n",
    "                      'a', 'b', 'a', 'a'],\n",
    "            'key2' : ['one', 'one', 'two', 'three',\n",
    "                      'two', 'two', 'one', 'three'],\n",
    "            'data1': np.random.randint(1,10, 8),\n",
    "            'data2': np.random.randint(1,10, 8)}\n",
    "df_obj5 = pd.DataFrame(dict_obj)\n",
    "print(df_obj5)"
   ]
  },
  {
   "cell_type": "code",
   "execution_count": 57,
   "metadata": {
    "collapsed": false
   },
   "outputs": [
    {
     "name": "stdout",
     "output_type": "stream",
     "text": [
      "      data1  data2\n",
      "key1              \n",
      "a        11     37\n",
      "b        16     14\n",
      "      data1  data2 key2\n",
      "key1                   \n",
      "a         5      9  two\n",
      "b         7      8  two\n",
      "      data1  data2 key2\n",
      "key1                   \n",
      "a         1      3  one\n",
      "b         3      3  one\n",
      "         data1     data2\n",
      "key1                    \n",
      "a     2.200000  7.400000\n",
      "b     5.333333  4.666667\n",
      "key1\n",
      "a    5\n",
      "b    3\n",
      "dtype: int64\n",
      "      data1  data2  key2\n",
      "key1                    \n",
      "a         5      5     5\n",
      "b         3      3     3\n",
      "     data1                                              data2            \\\n",
      "     count      mean       std  min  25%  50%  75%  max count      mean   \n",
      "key1                                                                      \n",
      "a      5.0  2.200000  1.643168  1.0  1.0  2.0  2.0  5.0   5.0  7.400000   \n",
      "b      3.0  5.333333  2.081666  3.0  4.5  6.0  6.5  7.0   3.0  4.666667   \n",
      "\n",
      "                                         \n",
      "           std  min  25%  50%  75%  max  \n",
      "key1                                     \n",
      "a     2.509980  3.0  8.0  8.0  9.0  9.0  \n",
      "b     2.886751  3.0  3.0  3.0  5.5  8.0  \n"
     ]
    }
   ],
   "source": [
    "# 内置的聚合函数\n",
    "print(df_obj5.groupby('key1').sum())\n",
    "print(df_obj5.groupby('key1').max())\n",
    "print(df_obj5.groupby('key1').min())\n",
    "print(df_obj5.groupby('key1').mean())\n",
    "print(df_obj5.groupby('key1').size())\n",
    "print(df_obj5.groupby('key1').count())\n",
    "print(df_obj5.groupby('key1').describe())"
   ]
  },
  {
   "cell_type": "code",
   "execution_count": 59,
   "metadata": {
    "collapsed": false
   },
   "outputs": [
    {
     "name": "stdout",
     "output_type": "stream",
     "text": [
      "      data1  data2\n",
      "key1              \n",
      "a         4      6\n",
      "b         4      5\n",
      "      data1  data2\n",
      "key1              \n",
      "a         4      6\n",
      "b         4      5\n"
     ]
    }
   ],
   "source": [
    "# 自定义的聚合函数\n",
    "def peak_range(df):\n",
    "    \"\"\"\n",
    "      返回数值范围\n",
    "    \"\"\"\n",
    "    return df.max() - df.min()\n",
    "\n",
    "print(df_obj5.groupby('key1').agg(peak_range))\n",
    "print(df_obj5.groupby('key1').agg(lambda df : df.max() - df.min()))"
   ]
  },
  {
   "cell_type": "code",
   "execution_count": null,
   "metadata": {
    "collapsed": true
   },
   "outputs": [],
   "source": []
  },
  {
   "cell_type": "code",
   "execution_count": null,
   "metadata": {
    "collapsed": true
   },
   "outputs": [],
   "source": []
  },
  {
   "cell_type": "code",
   "execution_count": null,
   "metadata": {
    "collapsed": true
   },
   "outputs": [],
   "source": []
  }
 ],
 "metadata": {
  "kernelspec": {
   "display_name": "Python 3",
   "language": "python",
   "name": "python3"
  },
  "language_info": {
   "codemirror_mode": {
    "name": "ipython",
    "version": 3
   },
   "file_extension": ".py",
   "mimetype": "text/x-python",
   "name": "python",
   "nbconvert_exporter": "python",
   "pygments_lexer": "ipython3",
   "version": "3.5.3"
  }
 },
 "nbformat": 4,
 "nbformat_minor": 2
}
