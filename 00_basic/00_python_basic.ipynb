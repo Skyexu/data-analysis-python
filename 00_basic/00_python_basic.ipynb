{
 "cells": [
  {
   "cell_type": "markdown",
   "metadata": {
    "toc": true
   },
   "source": [
    "<h1>Table of Contents<span class=\"tocSkip\"></span></h1>\n",
    "<div class=\"toc\"><ul class=\"toc-item\"><li><span><a href=\"#数据类型\" data-toc-modified-id=\"数据类型-1\"><span class=\"toc-item-num\">1&nbsp;&nbsp;</span>数据类型</a></span><ul class=\"toc-item\"><li><span><a href=\"#字面常量-Literal-Constants\" data-toc-modified-id=\"字面常量-Literal-Constants-1.1\"><span class=\"toc-item-num\">1.1&nbsp;&nbsp;</span>字面常量 Literal Constants</a></span><ul class=\"toc-item\"><li><span><a href=\"#数字\" data-toc-modified-id=\"数字-1.1.1\"><span class=\"toc-item-num\">1.1.1&nbsp;&nbsp;</span>数字</a></span></li><li><span><a href=\"#字符串\" data-toc-modified-id=\"字符串-1.1.2\"><span class=\"toc-item-num\">1.1.2&nbsp;&nbsp;</span>字符串</a></span></li></ul></li><li><span><a href=\"#变量\" data-toc-modified-id=\"变量-1.2\"><span class=\"toc-item-num\">1.2&nbsp;&nbsp;</span>变量</a></span></li></ul></li><li><span><a href=\"#运算符与表达式\" data-toc-modified-id=\"运算符与表达式-2\"><span class=\"toc-item-num\">2&nbsp;&nbsp;</span>运算符与表达式</a></span><ul class=\"toc-item\"><li><span><a href=\"#运算符\" data-toc-modified-id=\"运算符-2.1\"><span class=\"toc-item-num\">2.1&nbsp;&nbsp;</span>运算符</a></span></li><li><span><a href=\"#表达式\" data-toc-modified-id=\"表达式-2.2\"><span class=\"toc-item-num\">2.2&nbsp;&nbsp;</span>表达式</a></span></li></ul></li><li><span><a href=\"#控制流\" data-toc-modified-id=\"控制流-3\"><span class=\"toc-item-num\">3&nbsp;&nbsp;</span>控制流</a></span><ul class=\"toc-item\"><li><span><a href=\"#if-语句\" data-toc-modified-id=\"if-语句-3.1\"><span class=\"toc-item-num\">3.1&nbsp;&nbsp;</span><code>if</code> 语句</a></span></li><li><span><a href=\"#while-语句\" data-toc-modified-id=\"while-语句-3.2\"><span class=\"toc-item-num\">3.2&nbsp;&nbsp;</span>while 语句</a></span></li><li><span><a href=\"#for-循环\" data-toc-modified-id=\"for-循环-3.3\"><span class=\"toc-item-num\">3.3&nbsp;&nbsp;</span>for 循环</a></span></li><li><span><a href=\"#break-语句\" data-toc-modified-id=\"break-语句-3.4\"><span class=\"toc-item-num\">3.4&nbsp;&nbsp;</span>break 语句</a></span></li><li><span><a href=\"#continue-语句\" data-toc-modified-id=\"continue-语句-3.5\"><span class=\"toc-item-num\">3.5&nbsp;&nbsp;</span>continue 语句</a></span></li></ul></li><li><span><a href=\"#函数\" data-toc-modified-id=\"函数-4\"><span class=\"toc-item-num\">4&nbsp;&nbsp;</span>函数</a></span><ul class=\"toc-item\"><li><span><a href=\"#函数参数\" data-toc-modified-id=\"函数参数-4.1\"><span class=\"toc-item-num\">4.1&nbsp;&nbsp;</span>函数参数</a></span><ul class=\"toc-item\"><li><span><a href=\"#默认参数\" data-toc-modified-id=\"默认参数-4.1.1\"><span class=\"toc-item-num\">4.1.1&nbsp;&nbsp;</span>默认参数</a></span></li><li><span><a href=\"#关键字参数\" data-toc-modified-id=\"关键字参数-4.1.2\"><span class=\"toc-item-num\">4.1.2&nbsp;&nbsp;</span>关键字参数</a></span></li><li><span><a href=\"#可变参数\" data-toc-modified-id=\"可变参数-4.1.3\"><span class=\"toc-item-num\">4.1.3&nbsp;&nbsp;</span>可变参数</a></span></li><li><span><a href=\"#参数列表的分拆\" data-toc-modified-id=\"参数列表的分拆-4.1.4\"><span class=\"toc-item-num\">4.1.4&nbsp;&nbsp;</span>参数列表的分拆</a></span></li></ul></li><li><span><a href=\"#变量作用域\" data-toc-modified-id=\"变量作用域-4.2\"><span class=\"toc-item-num\">4.2&nbsp;&nbsp;</span>变量作用域</a></span><ul class=\"toc-item\"><li><span><a href=\"#局部变量\" data-toc-modified-id=\"局部变量-4.2.1\"><span class=\"toc-item-num\">4.2.1&nbsp;&nbsp;</span>局部变量</a></span></li><li><span><a href=\"#全局变量\" data-toc-modified-id=\"全局变量-4.2.2\"><span class=\"toc-item-num\">4.2.2&nbsp;&nbsp;</span>全局变量</a></span></li></ul></li><li><span><a href=\"#嵌套函数与闭包\" data-toc-modified-id=\"嵌套函数与闭包-4.3\"><span class=\"toc-item-num\">4.3&nbsp;&nbsp;</span>嵌套函数与闭包</a></span></li><li><span><a href=\"#return-语句\" data-toc-modified-id=\"return-语句-4.4\"><span class=\"toc-item-num\">4.4&nbsp;&nbsp;</span>return 语句</a></span></li><li><span><a href=\"#DocStrings\" data-toc-modified-id=\"DocStrings-4.5\"><span class=\"toc-item-num\">4.5&nbsp;&nbsp;</span>DocStrings</a></span></li><li><span><a href=\"#常用内置函数\" data-toc-modified-id=\"常用内置函数-4.6\"><span class=\"toc-item-num\">4.6&nbsp;&nbsp;</span>常用内置函数</a></span></li></ul></li><li><span><a href=\"#模块\" data-toc-modified-id=\"模块-5\"><span class=\"toc-item-num\">5&nbsp;&nbsp;</span>模块</a></span><ul class=\"toc-item\"><li><span><a href=\"#from..import\" data-toc-modified-id=\"from..import-5.1\"><span class=\"toc-item-num\">5.1&nbsp;&nbsp;</span>from..import</a></span></li><li><span><a href=\"#__name__\" data-toc-modified-id=\"__name__-5.2\"><span class=\"toc-item-num\">5.2&nbsp;&nbsp;</span><code>__name__</code></a></span></li><li><span><a href=\"#编写自己的模块\" data-toc-modified-id=\"编写自己的模块-5.3\"><span class=\"toc-item-num\">5.3&nbsp;&nbsp;</span>编写自己的模块</a></span></li><li><span><a href=\"#dir-函数\" data-toc-modified-id=\"dir-函数-5.4\"><span class=\"toc-item-num\">5.4&nbsp;&nbsp;</span>dir 函数</a></span></li><li><span><a href=\"#包\" data-toc-modified-id=\"包-5.5\"><span class=\"toc-item-num\">5.5&nbsp;&nbsp;</span>包</a></span></li></ul></li><li><span><a href=\"#数据结构\" data-toc-modified-id=\"数据结构-6\"><span class=\"toc-item-num\">6&nbsp;&nbsp;</span>数据结构</a></span><ul class=\"toc-item\"><li><span><a href=\"#列表\" data-toc-modified-id=\"列表-6.1\"><span class=\"toc-item-num\">6.1&nbsp;&nbsp;</span>列表</a></span></li><li><span><a href=\"#元组\" data-toc-modified-id=\"元组-6.2\"><span class=\"toc-item-num\">6.2&nbsp;&nbsp;</span>元组</a></span></li><li><span><a href=\"#字典\" data-toc-modified-id=\"字典-6.3\"><span class=\"toc-item-num\">6.3&nbsp;&nbsp;</span>字典</a></span></li><li><span><a href=\"#序列\" data-toc-modified-id=\"序列-6.4\"><span class=\"toc-item-num\">6.4&nbsp;&nbsp;</span>序列</a></span></li><li><span><a href=\"#集合\" data-toc-modified-id=\"集合-6.5\"><span class=\"toc-item-num\">6.5&nbsp;&nbsp;</span>集合</a></span></li><li><span><a href=\"#引用\" data-toc-modified-id=\"引用-6.6\"><span class=\"toc-item-num\">6.6&nbsp;&nbsp;</span>引用</a></span></li><li><span><a href=\"#字符串的更多内容\" data-toc-modified-id=\"字符串的更多内容-6.7\"><span class=\"toc-item-num\">6.7&nbsp;&nbsp;</span>字符串的更多内容</a></span></li></ul></li><li><span><a href=\"#阶段练习\" data-toc-modified-id=\"阶段练习-7\"><span class=\"toc-item-num\">7&nbsp;&nbsp;</span>阶段练习</a></span></li><li><span><a href=\"#面向对象\" data-toc-modified-id=\"面向对象-8\"><span class=\"toc-item-num\">8&nbsp;&nbsp;</span>面向对象</a></span><ul class=\"toc-item\"><li><span><a href=\"#类\" data-toc-modified-id=\"类-8.1\"><span class=\"toc-item-num\">8.1&nbsp;&nbsp;</span>类</a></span></li><li><span><a href=\"#方法\" data-toc-modified-id=\"方法-8.2\"><span class=\"toc-item-num\">8.2&nbsp;&nbsp;</span>方法</a></span></li><li><span><a href=\"#类变量与实例变量\" data-toc-modified-id=\"类变量与实例变量-8.3\"><span class=\"toc-item-num\">8.3&nbsp;&nbsp;</span>类变量与实例变量</a></span></li><li><span><a href=\"#继承\" data-toc-modified-id=\"继承-8.4\"><span class=\"toc-item-num\">8.4&nbsp;&nbsp;</span>继承</a></span></li><li><span><a href=\"#其它补充\" data-toc-modified-id=\"其它补充-8.5\"><span class=\"toc-item-num\">8.5&nbsp;&nbsp;</span>其它补充</a></span></li></ul></li><li><span><a href=\"#输入与输出\" data-toc-modified-id=\"输入与输出-9\"><span class=\"toc-item-num\">9&nbsp;&nbsp;</span>输入与输出</a></span><ul class=\"toc-item\"><li><span><a href=\"#用户输入内容\" data-toc-modified-id=\"用户输入内容-9.1\"><span class=\"toc-item-num\">9.1&nbsp;&nbsp;</span>用户输入内容</a></span></li><li><span><a href=\"#文件\" data-toc-modified-id=\"文件-9.2\"><span class=\"toc-item-num\">9.2&nbsp;&nbsp;</span>文件</a></span></li><li><span><a href=\"#Pickle-对象持久化\" data-toc-modified-id=\"Pickle-对象持久化-9.3\"><span class=\"toc-item-num\">9.3&nbsp;&nbsp;</span>Pickle 对象持久化</a></span></li><li><span><a href=\"#Unicode\" data-toc-modified-id=\"Unicode-9.4\"><span class=\"toc-item-num\">9.4&nbsp;&nbsp;</span>Unicode</a></span></li></ul></li><li><span><a href=\"#异常\" data-toc-modified-id=\"异常-10\"><span class=\"toc-item-num\">10&nbsp;&nbsp;</span>异常</a></span><ul class=\"toc-item\"><li><span><a href=\"#处理异常\" data-toc-modified-id=\"处理异常-10.1\"><span class=\"toc-item-num\">10.1&nbsp;&nbsp;</span>处理异常</a></span></li><li><span><a href=\"#抛出异常\" data-toc-modified-id=\"抛出异常-10.2\"><span class=\"toc-item-num\">10.2&nbsp;&nbsp;</span>抛出异常</a></span></li><li><span><a href=\"#try...finally\" data-toc-modified-id=\"try...finally-10.3\"><span class=\"toc-item-num\">10.3&nbsp;&nbsp;</span>try...finally</a></span></li><li><span><a href=\"#with-语句\" data-toc-modified-id=\"with-语句-10.4\"><span class=\"toc-item-num\">10.4&nbsp;&nbsp;</span>with 语句</a></span></li></ul></li><li><span><a href=\"#标准库\" data-toc-modified-id=\"标准库-11\"><span class=\"toc-item-num\">11&nbsp;&nbsp;</span>标准库</a></span><ul class=\"toc-item\"><li><span><a href=\"#sys-模块\" data-toc-modified-id=\"sys-模块-11.1\"><span class=\"toc-item-num\">11.1&nbsp;&nbsp;</span>sys 模块</a></span></li><li><span><a href=\"#日志模块\" data-toc-modified-id=\"日志模块-11.2\"><span class=\"toc-item-num\">11.2&nbsp;&nbsp;</span>日志模块</a></span></li><li><span><a href=\"#时间和日期\" data-toc-modified-id=\"时间和日期-11.3\"><span class=\"toc-item-num\">11.3&nbsp;&nbsp;</span>时间和日期</a></span></li></ul></li><li><span><a href=\"#更多\" data-toc-modified-id=\"更多-12\"><span class=\"toc-item-num\">12&nbsp;&nbsp;</span>更多</a></span><ul class=\"toc-item\"><li><span><a href=\"#特殊方法\" data-toc-modified-id=\"特殊方法-12.1\"><span class=\"toc-item-num\">12.1&nbsp;&nbsp;</span>特殊方法</a></span></li><li><span><a href=\"#lambda\" data-toc-modified-id=\"lambda-12.2\"><span class=\"toc-item-num\">12.2&nbsp;&nbsp;</span>lambda</a></span></li><li><span><a href=\"#列表推导式\" data-toc-modified-id=\"列表推导式-12.3\"><span class=\"toc-item-num\">12.3&nbsp;&nbsp;</span>列表推导式</a></span></li><li><span><a href=\"#生成器\" data-toc-modified-id=\"生成器-12.4\"><span class=\"toc-item-num\">12.4&nbsp;&nbsp;</span>生成器</a></span></li><li><span><a href=\"#assert-语句\" data-toc-modified-id=\"assert-语句-12.5\"><span class=\"toc-item-num\">12.5&nbsp;&nbsp;</span>assert 语句</a></span></li><li><span><a href=\"#装饰器\" data-toc-modified-id=\"装饰器-12.6\"><span class=\"toc-item-num\">12.6&nbsp;&nbsp;</span>装饰器</a></span></li><li><span><a href=\"#高阶函数\" data-toc-modified-id=\"高阶函数-12.7\"><span class=\"toc-item-num\">12.7&nbsp;&nbsp;</span>高阶函数</a></span></li><li><span><a href=\"#练习\" data-toc-modified-id=\"练习-12.8\"><span class=\"toc-item-num\">12.8&nbsp;&nbsp;</span>练习</a></span></li></ul></li></ul></div>"
   ]
  },
  {
   "cell_type": "markdown",
   "metadata": {},
   "source": [
    "# Python 语言基础"
   ]
  },
  {
   "cell_type": "markdown",
   "metadata": {},
   "source": [
    "## 数据类型"
   ]
  },
  {
   "cell_type": "markdown",
   "metadata": {},
   "source": [
    "### 字面常量 Literal Constants\n",
    "表示比如数字 5，1.23 或者 字符串 'This is a string'  等字面上的常量\n",
    "\n",
    "#### 数字\n",
    "数字包括整数与浮点数，注意没有单独的 long 类型，int 类型可以表示任何大小的整数\n",
    "#### 字符串\n",
    "- 单引号与双引号工作机制相同。三引号 `\"\"\"` 或者 `'''` 表示多行字符串\n",
    "- 字符串不可变，python 中没有 char 类型"
   ]
  },
  {
   "cell_type": "markdown",
   "metadata": {},
   "source": [
    "- **字符串格式化 format()**"
   ]
  },
  {
   "cell_type": "code",
   "execution_count": 5,
   "metadata": {
    "collapsed": false,
    "scrolled": true
   },
   "outputs": [
    {
     "name": "stdout",
     "output_type": "stream",
     "text": [
      "Swaroop was 20 yeas old when he wrote this book\n",
      "Why is Swaroop playing with that python?\n"
     ]
    }
   ],
   "source": [
    "age = 20\n",
    "name = 'Swaroop'\n",
    "print('{0} was {1} yeas old when he wrote this book'.format(name,age))\n",
    "print('Why is {0} playing with that python?'.format(name))"
   ]
  },
  {
   "cell_type": "markdown",
   "metadata": {},
   "source": [
    "上述写法比较推荐，其避免了 `name + 'is' +str(age) + 'years old'` 这样的写法形式，format 函数会转换类型。\n",
    "也可以像下面这样写"
   ]
  },
  {
   "cell_type": "code",
   "execution_count": 11,
   "metadata": {
    "collapsed": false
   },
   "outputs": [
    {
     "name": "stdout",
     "output_type": "stream",
     "text": [
      "Swaroop was 20 years old when he wrote this book\n",
      "Why is Swaroop playing with that python?\n"
     ]
    }
   ],
   "source": [
    "age = 20\n",
    "name = 'Swaroop'\n",
    "print('{} was {} years old when he wrote this book'.format(name, age))\n",
    "print('Why is {} playing with that python?'.format(name))"
   ]
  },
  {
   "cell_type": "code",
   "execution_count": 12,
   "metadata": {
    "collapsed": false,
    "scrolled": true
   },
   "outputs": [
    {
     "name": "stdout",
     "output_type": "stream",
     "text": [
      "0.333\n",
      "___hello___\n",
      "Swaroop wrote A Byte of Python\n"
     ]
    }
   ],
   "source": [
    "# 对于浮点数 '0.333' 保留小数点(.)后三位\n",
    "print('{0:.3f}'.format(1.0/3))\n",
    "# 使用下划线填充文本，并保持文字处于中间位置\n",
    "# 使用 (^) 定义 '___hello___'字符串长度为 11\n",
    "print('{0:_^11}'.format('hello'))\n",
    "# 基于关键词输出 'Swaroop wrote A Byte of Python'\n",
    "print('{name} wrote {book}'.format(name='Swaroop', book='A Byte of Python'))"
   ]
  },
  {
   "cell_type": "markdown",
   "metadata": {},
   "source": [
    "print 不换行"
   ]
  },
  {
   "cell_type": "code",
   "execution_count": 14,
   "metadata": {
    "collapsed": false
   },
   "outputs": [
    {
     "name": "stdout",
     "output_type": "stream",
     "text": [
      "a b c\n"
     ]
    }
   ],
   "source": [
    "print('a',end=' ')\n",
    "print('b',end=' ')\n",
    "print('c')"
   ]
  },
  {
   "cell_type": "markdown",
   "metadata": {},
   "source": [
    "不转义的字符串，在前面加 r"
   ]
  },
  {
   "cell_type": "code",
   "execution_count": 20,
   "metadata": {
    "collapsed": false
   },
   "outputs": [
    {
     "name": "stdout",
     "output_type": "stream",
     "text": [
      "Newlines are indicated by \\n\n"
     ]
    }
   ],
   "source": [
    "print(r\"Newlines are indicated by \\n\")"
   ]
  },
  {
   "cell_type": "markdown",
   "metadata": {},
   "source": [
    "### 变量\n",
    "- 标识符命名规则\n",
    "- 数据类型：字符串、数字、类（Class）\n",
    "- 对象：Python 中任何内容都是对象（Object），虽然不需要指定类型，但是它是强类型语言"
   ]
  },
  {
   "cell_type": "code",
   "execution_count": 21,
   "metadata": {
    "collapsed": false
   },
   "outputs": [
    {
     "name": "stdout",
     "output_type": "stream",
     "text": [
      "5\n",
      "6\n",
      "This is a muti-line string.\n",
      "This is the second line.\n"
     ]
    }
   ],
   "source": [
    "# 将字面常量 5 赋值给 变量 i\n",
    "i = 5\n",
    "print(i)\n",
    "i = i + 1\n",
    "print(i)\n",
    "\n",
    "s = '''This is a muti-line string.\n",
    "This is the second line.'''\n",
    "print(s)"
   ]
  },
  {
   "cell_type": "markdown",
   "metadata": {},
   "source": [
    "- 反斜杠拆分行"
   ]
  },
  {
   "cell_type": "code",
   "execution_count": 24,
   "metadata": {
    "collapsed": false
   },
   "outputs": [
    {
     "name": "stdout",
     "output_type": "stream",
     "text": [
      "This is a string. This continues the string.\n",
      "5\n",
      "5\n"
     ]
    }
   ],
   "source": [
    "s = 'This is a string. \\\n",
    "This continues the string.'\n",
    "print(s)\n",
    "\n",
    "i = \\\n",
    "5\n",
    "\n",
    "j = 5\n",
    "print(i)\n",
    "print(j)"
   ]
  },
  {
   "cell_type": "markdown",
   "metadata": {},
   "source": [
    "## 运算符与表达式\n",
    "### 运算符\n",
    "需要注意的几个\n",
    "- `/` 除   13 / 3 == 4.33333333\n",
    "- `//` 整除  13 // 3 = 4 \n",
    "- `&` 按位与\n",
    "- `not` 布尔 “非”\n",
    "- `and` 布尔 “与”\n",
    "- `or`  布尔 “或”\n",
    "\n",
    "**求值顺序**\n",
    "https://docs.python.org/3/reference/expressions.html#operator-precedence\n",
    "优先级从低到高\n",
    "- `lambda` ：Lambda 表达式\n",
    "- `if - else` ：条件表达式\n",
    "- `or` ：布尔“或”\n",
    "- `and` ：布尔“与”\n",
    "- `not x` ：布尔“非”\n",
    "- `in, not in, is, is not, <, <=, >, >=, !=, == `：比较，包括成员资格测试（Membership Tests）和身份测试（Identity Tests）。\n",
    "-`|`：按位或\n",
    "- `^` ：按位异或\n",
    "- `&` ：按位与\n",
    "- `<<, >>` ：移动\n",
    "- `+, -` ：加与减\n",
    "- `\\*, /, //, %` ：乘、除、整除、取余\n",
    "- `+x, -x, ~x` ：正、负、按位取反\n",
    "- `\\*\\*` ：求幂\n",
    "- `x[index], x[index:index], x(arguments...), x.attribute` ：下标、切片、调用、属性引用\n",
    "- `(expressions...), [expressions...], {key: value...}, {expressions...}` ：表示绑定或元组、表示列表、表示字典、表示集合"
   ]
  },
  {
   "cell_type": "markdown",
   "metadata": {},
   "source": [
    "### 表达式"
   ]
  },
  {
   "cell_type": "code",
   "execution_count": 27,
   "metadata": {
    "collapsed": false
   },
   "outputs": [
    {
     "name": "stdout",
     "output_type": "stream",
     "text": [
      "Area is 10\n",
      "Perimeter is 14\n"
     ]
    }
   ],
   "source": [
    "length = 5\n",
    "breadth = 2\n",
    "area = length * breadth\n",
    "print('Area is', area)\n",
    "print('Perimeter is', 2 * (length + breadth))"
   ]
  },
  {
   "cell_type": "markdown",
   "metadata": {},
   "source": [
    "## 控制流"
   ]
  },
  {
   "cell_type": "markdown",
   "metadata": {},
   "source": [
    "### `if` 语句\n",
    "\n",
    "```python\n",
    "# else 可选\n",
    "if x:\n",
    "elif x:\n",
    "else:\n",
    "```\n"
   ]
  },
  {
   "cell_type": "code",
   "execution_count": 8,
   "metadata": {
    "collapsed": false
   },
   "outputs": [
    {
     "name": "stdout",
     "output_type": "stream",
     "text": [
      "Enter an integer : 10\n",
      "小了\n",
      "游戏结束\n"
     ]
    }
   ],
   "source": [
    "number = 23\n",
    "guess = int(input('Enter an integer : '))\n",
    "\n",
    "if guess == number:\n",
    "    print('恭喜猜对了')\n",
    "    print('(但是你并没有得到奖品)')\n",
    "elif guess < number:\n",
    "    print('小了')\n",
    "else:\n",
    "    print('大了')\n",
    "\n",
    "print(\"游戏结束\")"
   ]
  },
  {
   "cell_type": "markdown",
   "metadata": {},
   "source": [
    "### while 语句\n",
    "\n",
    "```python\n",
    "# else 可选\n",
    "while x:\n",
    "\n",
    "else:\n",
    "\n",
    "```"
   ]
  },
  {
   "cell_type": "code",
   "execution_count": 2,
   "metadata": {
    "collapsed": false,
    "scrolled": true
   },
   "outputs": [
    {
     "name": "stdout",
     "output_type": "stream",
     "text": [
      "Enter an integer : 10\n",
      "小了\n",
      "Enter an integer : 25\n",
      "大了\n",
      "Enter an integer : 23\n",
      "恭喜猜对了\n",
      "(但是你并没有得到奖品)\n",
      "while 结束\n",
      "游戏结束\n"
     ]
    }
   ],
   "source": [
    "number = 23\n",
    "running = True\n",
    "\n",
    "while running:\n",
    "    guess = int(input(\"Enter an integer : \"))\n",
    "    \n",
    "    if guess == number:\n",
    "        print('恭喜猜对了')\n",
    "        print('(但是你并没有得到奖品)')\n",
    "        \n",
    "        running = False\n",
    "    elif guess < number:\n",
    "        print('小了')\n",
    "    else:\n",
    "        print('大了')\n",
    "else:\n",
    "    print(\"while 结束\")\n",
    "    \n",
    "print(\"游戏结束\")"
   ]
  },
  {
   "cell_type": "markdown",
   "metadata": {},
   "source": [
    "###  for 循环\n",
    "`for...in` 会在对象中迭代  和其它语言差别较大，类似 java 中的 `for(int i : IntArray)`"
   ]
  },
  {
   "cell_type": "code",
   "execution_count": 3,
   "metadata": {
    "collapsed": false
   },
   "outputs": [
    {
     "name": "stdout",
     "output_type": "stream",
     "text": [
      "1\n",
      "2\n",
      "3\n",
      "4\n",
      "for 循环结束\n"
     ]
    }
   ],
   "source": [
    "for i in range(1,5):\n",
    "    print(i)\n",
    "else:\n",
    "    print(\"for 循环结束\")"
   ]
  },
  {
   "cell_type": "markdown",
   "metadata": {},
   "source": [
    "###  break 语句 \n",
    "中断循环"
   ]
  },
  {
   "cell_type": "code",
   "execution_count": 6,
   "metadata": {
    "collapsed": false
   },
   "outputs": [
    {
     "name": "stdout",
     "output_type": "stream",
     "text": [
      "Enter something : test\n",
      "Length of the string is 4\n",
      "Enter something : quit\n",
      "Done\n"
     ]
    }
   ],
   "source": [
    "while True:\n",
    "    s = input('Enter something : ')\n",
    "    if s == 'quit':\n",
    "        break\n",
    "    print('Length of the string is', len(s))\n",
    "print('Done')"
   ]
  },
  {
   "cell_type": "markdown",
   "metadata": {},
   "source": [
    "### continue 语句\n",
    "跳过循环中剩余语句，开始下一次迭代"
   ]
  },
  {
   "cell_type": "code",
   "execution_count": 7,
   "metadata": {
    "collapsed": false,
    "scrolled": true
   },
   "outputs": [
    {
     "name": "stdout",
     "output_type": "stream",
     "text": [
      "Enter something : te\n",
      "Too small\n",
      "Enter something : aaa\n",
      "Input is of sufficient length\n",
      "Enter something : quit\n"
     ]
    }
   ],
   "source": [
    "while True:\n",
    "    s = input('Enter something : ')\n",
    "    if s == 'quit':\n",
    "        break\n",
    "    if len(s) < 3:\n",
    "        print('Too small')\n",
    "        continue\n",
    "    print('Input is of sufficient length')"
   ]
  },
  {
   "cell_type": "markdown",
   "metadata": {
    "collapsed": true
   },
   "source": [
    "## 函数\n",
    "\n",
    "通过 def 定义"
   ]
  },
  {
   "cell_type": "code",
   "execution_count": 9,
   "metadata": {
    "collapsed": false
   },
   "outputs": [
    {
     "name": "stdout",
     "output_type": "stream",
     "text": [
      "hello world\n",
      "hello world\n"
     ]
    }
   ],
   "source": [
    "def say_hello():\n",
    "    print(\"hello world\")\n",
    "    \n",
    "say_hello()\n",
    "say_hello()"
   ]
  },
  {
   "cell_type": "markdown",
   "metadata": {},
   "source": [
    "### 函数参数\n",
    "函数定义括号中的名称为“形参（Parameters）”，调用时传递的值为“实参（Arguments）”"
   ]
  },
  {
   "cell_type": "code",
   "execution_count": 11,
   "metadata": {
    "collapsed": false
   },
   "outputs": [
    {
     "name": "stdout",
     "output_type": "stream",
     "text": [
      "4 is maximum\n",
      "7 is maximum\n"
     ]
    }
   ],
   "source": [
    "def print_max(a, b):\n",
    "    if a > b:\n",
    "        print(a,\"is maximum\")\n",
    "    elif a == b:\n",
    "        print(a,\"is equal to\",b)\n",
    "    else:\n",
    "        print(b,\"is maximum\")\n",
    "        \n",
    "# 调用\n",
    "print_max(3,4)\n",
    "\n",
    "x = 5\n",
    "y = 7\n",
    "\n",
    "print_max(x,y)"
   ]
  },
  {
   "cell_type": "markdown",
   "metadata": {},
   "source": [
    "#### 默认参数\n",
    "对参数添加 `=` 指定默认参数，默认参数需要不可变。**参数列表中末尾参数才能被赋予默认参数**。这是因为值是按参数所处的位置依次分配的。举例来说， def func(a, b=5) 是有效的，但 def func(a=5, b) 是无效的。"
   ]
  },
  {
   "cell_type": "code",
   "execution_count": 18,
   "metadata": {
    "collapsed": false
   },
   "outputs": [
    {
     "name": "stdout",
     "output_type": "stream",
     "text": [
      "Hello\n",
      "WorldWorldWorldWorldWorld\n"
     ]
    }
   ],
   "source": [
    "def say(message, times=1):\n",
    "    print(message * times)\n",
    "    \n",
    "say(\"Hello\")\n",
    "say(\"World\",5)"
   ]
  },
  {
   "cell_type": "markdown",
   "metadata": {},
   "source": [
    "#### 关键字参数\n",
    "指定形参名字来赋值，无需考虑参数的顺序。"
   ]
  },
  {
   "cell_type": "code",
   "execution_count": 19,
   "metadata": {
    "collapsed": false
   },
   "outputs": [
    {
     "name": "stdout",
     "output_type": "stream",
     "text": [
      "a is 3 and b is 7 and c is 10\n",
      "a is 25 and b is 5 and c is 24\n",
      "a is 100 and b is 5 and c is 50\n"
     ]
    }
   ],
   "source": [
    "def func(a, b=5, c=10):\n",
    "    print('a is', a, 'and b is', b, 'and c is', c)\n",
    "    \n",
    "func(3, 7)\n",
    "func(25, c=24)\n",
    "func(c=50, a=100)"
   ]
  },
  {
   "cell_type": "markdown",
   "metadata": {},
   "source": [
    "#### 可变参数\n",
    "定义参数是可变的，使用 * 来实现。\n",
    "- `*param` ：从此处开始的所有参数都形成一个元组\n",
    "- `**param`：从此出开始的所有参数都形成一个字典"
   ]
  },
  {
   "cell_type": "code",
   "execution_count": 20,
   "metadata": {
    "collapsed": false,
    "scrolled": true
   },
   "outputs": [
    {
     "name": "stdout",
     "output_type": "stream",
     "text": [
      "a 10\n",
      "single_item 1\n",
      "single_item 2\n",
      "single_item 3\n",
      "Inge 1614\n",
      "John 34112\n",
      "Jack 1123\n",
      "None\n"
     ]
    }
   ],
   "source": [
    "def total(a=5,*numbers, **phonebook):\n",
    "    print('a',a)\n",
    "    \n",
    "    # 遍历元组\n",
    "    for single_item in numbers:\n",
    "        print('single_item',single_item)\n",
    "        \n",
    "    # 遍历字典\n",
    "    for first_part, second_part in phonebook.items():\n",
    "        print(first_part,second_part)\n",
    "\n",
    "print(total(10,1,2,3,Jack=1123,John=34112,Inge=1614))"
   ]
  },
  {
   "cell_type": "markdown",
   "metadata": {},
   "source": [
    "#### 参数列表的分拆\n",
    "当你要传递的参数已经是一个列表，但要调用的函数却接受分开一个个的参数值。这时候你要把已有的列表拆开来。\n",
    "- 使用 `*` 将列表拆分\n",
    "- 使用 `**` 将字典拆分"
   ]
  },
  {
   "cell_type": "code",
   "execution_count": 16,
   "metadata": {
    "ExecuteTime": {
     "end_time": "2019-02-15T13:25:13.107656Z",
     "start_time": "2019-02-15T13:25:13.101645Z"
    },
    "collapsed": false
   },
   "outputs": [
    {
     "name": "stdout",
     "output_type": "stream",
     "text": [
      "[3, 4, 5]\n",
      "[3, 4, 5]\n"
     ]
    }
   ],
   "source": [
    "list1 = list(range(3,6))\n",
    "\n",
    "args = [3,6]\n",
    "# 使用 * 将列表拆分\n",
    "list2 = list(range(*args))\n",
    "\n",
    "print(list1)\n",
    "print(list2)"
   ]
  },
  {
   "cell_type": "code",
   "execution_count": 18,
   "metadata": {
    "ExecuteTime": {
     "end_time": "2019-02-15T13:27:52.086125Z",
     "start_time": "2019-02-15T13:27:52.079116Z"
    },
    "collapsed": false
   },
   "outputs": [
    {
     "name": "stdout",
     "output_type": "stream",
     "text": [
      "-- This parrot wouldn't VOOM if you put four million volts through it. E's bleedin' demised !\n"
     ]
    }
   ],
   "source": [
    "def parrot(voltage, state='a stiff', action='voom'):\n",
    "    print(\"-- This parrot wouldn't\", action, end=' ')\n",
    "    print(\"if you put\", voltage, \"volts through it.\", end=' ')\n",
    "    print(\"E's\", state, \"!\")\n",
    "\n",
    "d = {\"voltage\": \"four million\", \"state\": \"bleedin' demised\", \"action\": \"VOOM\"}\n",
    "parrot(**d)"
   ]
  },
  {
   "cell_type": "markdown",
   "metadata": {},
   "source": [
    "### 变量作用域\n",
    "变量作用域是他们被定义的块\n",
    "#### 局部变量\n",
    "\n",
    "函数内局部（Local）变量只存在于函数内。"
   ]
  },
  {
   "cell_type": "code",
   "execution_count": 12,
   "metadata": {
    "collapsed": false
   },
   "outputs": [
    {
     "name": "stdout",
     "output_type": "stream",
     "text": [
      "x is 50\n",
      "Changed local x to 2\n",
      "x is still 50\n"
     ]
    }
   ],
   "source": [
    "x = 50\n",
    "def func(x):\n",
    "    print('x is', x)\n",
    "    x = 2\n",
    "    print('Changed local x to', x)\n",
    "func(x)\n",
    "print('x is still', x)"
   ]
  },
  {
   "cell_type": "markdown",
   "metadata": {},
   "source": [
    "#### 全局变量\n",
    "用 global 来定义变量为全局变量，在函数内可以对函数外的变量赋值"
   ]
  },
  {
   "cell_type": "code",
   "execution_count": 3,
   "metadata": {
    "ExecuteTime": {
     "end_time": "2019-02-16T02:47:21.795613Z",
     "start_time": "2019-02-16T02:47:21.643022Z"
    },
    "collapsed": false
   },
   "outputs": [
    {
     "name": "stdout",
     "output_type": "stream",
     "text": [
      "x is 50\n",
      "change global x to 2\n",
      "Value of x is 2\n"
     ]
    }
   ],
   "source": [
    "x = 50\n",
    "\n",
    "def func():\n",
    "    global x\n",
    "    \n",
    "    print(\"x is\",x)\n",
    "    x = 2\n",
    "    print('change global x to',x)\n",
    "\n",
    "func()\n",
    "print(\"Value of x is\",x)"
   ]
  },
  {
   "cell_type": "markdown",
   "metadata": {},
   "source": [
    "### 嵌套函数与闭包\n",
    "\n",
    "定义嵌套函数"
   ]
  },
  {
   "cell_type": "code",
   "execution_count": 2,
   "metadata": {
    "ExecuteTime": {
     "end_time": "2019-02-16T02:47:21.641029Z",
     "start_time": "2019-02-16T02:47:21.486441Z"
    },
    "collapsed": false
   },
   "outputs": [
    {
     "name": "stdout",
     "output_type": "stream",
     "text": [
      "Hello\n"
     ]
    }
   ],
   "source": [
    "def print_msg(msg):\n",
    "    def printer():\n",
    "        print(msg)\n",
    "        \n",
    "    printer()\n",
    "    \n",
    "printtttttt_msg(\"Hello\")"
   ]
  },
  {
   "cell_type": "markdown",
   "metadata": {},
   "source": [
    "- 使用 nonlocal 关键字修改外层函数值"
   ]
  },
  {
   "cell_type": "code",
   "execution_count": 4,
   "metadata": {
    "ExecuteTime": {
     "end_time": "2019-02-16T02:48:18.598473Z",
     "start_time": "2019-02-16T02:48:18.347150Z"
    },
    "collapsed": false
   },
   "outputs": [
    {
     "ename": "UnboundLocalError",
     "evalue": "local variable 'a' referenced before assignment",
     "output_type": "error",
     "traceback": [
      "\u001b[1;31m---------------------------------------------------------------------------\u001b[0m",
      "\u001b[1;31mUnboundLocalError\u001b[0m                         Traceback (most recent call last)",
      "\u001b[1;32m<ipython-input-4-4cb61fad326f>\u001b[0m in \u001b[0;36m<module>\u001b[1;34m()\u001b[0m\n\u001b[0;32m      8\u001b[0m     \u001b[0minner\u001b[0m\u001b[1;33m(\u001b[0m\u001b[1;33m)\u001b[0m\u001b[1;33m\u001b[0m\u001b[0m\n\u001b[0;32m      9\u001b[0m \u001b[1;33m\u001b[0m\u001b[0m\n\u001b[1;32m---> 10\u001b[1;33m \u001b[0mouter\u001b[0m\u001b[1;33m(\u001b[0m\u001b[1;33m)\u001b[0m\u001b[1;33m\u001b[0m\u001b[0m\n\u001b[0m",
      "\u001b[1;32m<ipython-input-4-4cb61fad326f>\u001b[0m in \u001b[0;36mouter\u001b[1;34m()\u001b[0m\n\u001b[0;32m      6\u001b[0m         \u001b[0mprint\u001b[0m\u001b[1;33m(\u001b[0m\u001b[1;34m\"Inner \"\u001b[0m\u001b[1;33m,\u001b[0m\u001b[0ma\u001b[0m\u001b[1;33m)\u001b[0m\u001b[1;33m\u001b[0m\u001b[0m\n\u001b[0;32m      7\u001b[0m \u001b[1;33m\u001b[0m\u001b[0m\n\u001b[1;32m----> 8\u001b[1;33m     \u001b[0minner\u001b[0m\u001b[1;33m(\u001b[0m\u001b[1;33m)\u001b[0m\u001b[1;33m\u001b[0m\u001b[0m\n\u001b[0m\u001b[0;32m      9\u001b[0m \u001b[1;33m\u001b[0m\u001b[0m\n\u001b[0;32m     10\u001b[0m \u001b[0mouter\u001b[0m\u001b[1;33m(\u001b[0m\u001b[1;33m)\u001b[0m\u001b[1;33m\u001b[0m\u001b[0m\n",
      "\u001b[1;32m<ipython-input-4-4cb61fad326f>\u001b[0m in \u001b[0;36minner\u001b[1;34m()\u001b[0m\n\u001b[0;32m      3\u001b[0m \u001b[1;33m\u001b[0m\u001b[0m\n\u001b[0;32m      4\u001b[0m     \u001b[1;32mdef\u001b[0m \u001b[0minner\u001b[0m\u001b[1;33m(\u001b[0m\u001b[1;33m)\u001b[0m\u001b[1;33m:\u001b[0m\u001b[1;33m\u001b[0m\u001b[0m\n\u001b[1;32m----> 5\u001b[1;33m         \u001b[0ma\u001b[0m \u001b[1;33m+=\u001b[0m \u001b[1;36m1\u001b[0m\u001b[1;33m\u001b[0m\u001b[0m\n\u001b[0m\u001b[0;32m      6\u001b[0m         \u001b[0mprint\u001b[0m\u001b[1;33m(\u001b[0m\u001b[1;34m\"Inner \"\u001b[0m\u001b[1;33m,\u001b[0m\u001b[0ma\u001b[0m\u001b[1;33m)\u001b[0m\u001b[1;33m\u001b[0m\u001b[0m\n\u001b[0;32m      7\u001b[0m \u001b[1;33m\u001b[0m\u001b[0m\n",
      "\u001b[1;31mUnboundLocalError\u001b[0m: local variable 'a' referenced before assignment"
     ]
    }
   ],
   "source": [
    "def outer():\n",
    "    a = 1\n",
    "    \n",
    "    def inner():\n",
    "        a += 1\n",
    "        print(\"Inner \",a)\n",
    "    \n",
    "    inner()\n",
    "    \n",
    "outer()"
   ]
  },
  {
   "cell_type": "code",
   "execution_count": 6,
   "metadata": {
    "ExecuteTime": {
     "end_time": "2019-02-16T02:48:56.594876Z",
     "start_time": "2019-02-16T02:48:56.587890Z"
    },
    "collapsed": false
   },
   "outputs": [
    {
     "name": "stdout",
     "output_type": "stream",
     "text": [
      "Inner  2\n"
     ]
    }
   ],
   "source": [
    "def outer():\n",
    "    a = 1\n",
    "    \n",
    "    def inner():\n",
    "        nonlocal a\n",
    "        a += 1\n",
    "        print(\"Inner \",a)\n",
    "    \n",
    "    inner()\n",
    "    \n",
    "outer()"
   ]
  },
  {
   "cell_type": "markdown",
   "metadata": {},
   "source": [
    "- **闭包**\n",
    "\n",
    "闭包也称词法闭包，如果在一个内部函数里，对在外部作用域（但不是在全局作用域）的变量进行引用，那么内部函数就被认为是闭包（closure），这里说的作用域就是nonlocal；通俗来讲，闭包就是把一个函数（方法）作为一个变量来使用。\n",
    "\n",
    "在Python中创建闭包必须满足的标准将在以下几点：\n",
    "\n",
    "- 必须有一个嵌套函数(函数内部的函数)。\n",
    "- 嵌套函数必须引用封闭函数中定义的值。\n",
    "- 闭包函数必须返回嵌套函数。"
   ]
  },
  {
   "cell_type": "code",
   "execution_count": 14,
   "metadata": {
    "ExecuteTime": {
     "end_time": "2019-02-16T02:59:23.026939Z",
     "start_time": "2019-02-16T02:59:23.018955Z"
    },
    "collapsed": false
   },
   "outputs": [
    {
     "name": "stdout",
     "output_type": "stream",
     "text": [
      "1 2 3 "
     ]
    }
   ],
   "source": [
    "# 利用闭包实现一个计数器\n",
    "def counter():\n",
    "    i = 0\n",
    "    def nested():\n",
    "        nonlocal i\n",
    "        i += 1\n",
    "        return i\n",
    "\n",
    "    return nested\n",
    "\n",
    "c = counter()\n",
    "print(c(),c(),c(),end=\" \") #1 2 3"
   ]
  },
  {
   "cell_type": "markdown",
   "metadata": {},
   "source": [
    "### return 语句"
   ]
  },
  {
   "cell_type": "code",
   "execution_count": 23,
   "metadata": {
    "collapsed": false
   },
   "outputs": [
    {
     "name": "stdout",
     "output_type": "stream",
     "text": [
      "3\n"
     ]
    }
   ],
   "source": [
    "def maximum(x,y):\n",
    "    if x > y:\n",
    "        return x\n",
    "    elif x==y:\n",
    "        return \"The numbers are equal\"\n",
    "    else:\n",
    "        return y\n",
    "    \n",
    "print(maximum(2,3))"
   ]
  },
  {
   "cell_type": "markdown",
   "metadata": {},
   "source": [
    "注意，函数 return 如果没有值，或者没有 return 语句，则默认返回 None，None 是一个特使的类型。\n",
    "如下，pass 代表没有内容的语句块"
   ]
  },
  {
   "cell_type": "code",
   "execution_count": 25,
   "metadata": {
    "collapsed": true
   },
   "outputs": [],
   "source": [
    "def some_function():\n",
    "    pass"
   ]
  },
  {
   "cell_type": "markdown",
   "metadata": {},
   "source": [
    "### DocStrings\n",
    "文档字符串（Documentation Strings)，它能够帮助你更好地记录程序并让其更加易于理解。令人惊叹的是，当程序实际运行时，我们甚至可以通过一个函数来获取文档！"
   ]
  },
  {
   "cell_type": "code",
   "execution_count": 27,
   "metadata": {
    "collapsed": false
   },
   "outputs": [
    {
     "name": "stdout",
     "output_type": "stream",
     "text": [
      "5 is maximum\n",
      "打印两个数值中的最大数。\n",
      "    这两个数都应该是整数\n"
     ]
    }
   ],
   "source": [
    "def print_max(x, y):\n",
    "    '''打印两个数值中的最大数。\n",
    "    \n",
    "    这两个数都应该是整数'''\n",
    "    # 如果可能，将其转换至整数类型\n",
    "    x = int(x)\n",
    "    y = int(y)\n",
    "    if x > y:\n",
    "        print(x, 'is maximum')\n",
    "    else:\n",
    "        print(y, 'is maximum')\n",
    "\n",
    "print_max(3, 5)\n",
    "print(print_max.__doc__)"
   ]
  },
  {
   "cell_type": "code",
   "execution_count": 28,
   "metadata": {
    "collapsed": false,
    "scrolled": true
   },
   "outputs": [
    {
     "name": "stdout",
     "output_type": "stream",
     "text": [
      "Help on function print_max in module __main__:\n",
      "\n",
      "print_max(x, y)\n",
      "    打印两个数值中的最大数。\n",
      "    这两个数都应该是整数\n",
      "\n"
     ]
    }
   ],
   "source": [
    "help(print_max)"
   ]
  },
  {
   "cell_type": "markdown",
   "metadata": {},
   "source": [
    "### 常用内置函数\n",
    "**enumerate()**\n",
    "\n",
    "遍历数据对象，并生成索引下标\n",
    "enumerate(sequence, start=0)\n",
    "- sequence -- 一个序列、迭代器或其他支持迭代对象。\n",
    "- start -- 下标起始位置。"
   ]
  },
  {
   "cell_type": "code",
   "execution_count": 30,
   "metadata": {
    "ExecuteTime": {
     "end_time": "2019-02-16T07:25:17.441094Z",
     "start_time": "2019-02-16T07:25:17.435136Z"
    },
    "collapsed": false
   },
   "outputs": [
    {
     "name": "stdout",
     "output_type": "stream",
     "text": [
      "[(0, 'Spring'), (1, 'Summer'), (2, 'Fall'), (3, 'Winter')]\n",
      "[(1, 'Spring'), (2, 'Summer'), (3, 'Fall'), (4, 'Winter')]\n"
     ]
    }
   ],
   "source": [
    "seasons = ['Spring', 'Summer', 'Fall', 'Winter']\n",
    "L = list(enumerate(seasons))\n",
    "print(L)\n",
    "L2 = list(enumerate(seasons,start=1))\n",
    "print(L2)"
   ]
  },
  {
   "cell_type": "markdown",
   "metadata": {},
   "source": [
    "**eval()**\n",
    "\n",
    "用来执行一个字符串表达式，并返回表达式的值。 eval(expression, globals=None, locals=None)\n",
    "\n",
    "- expression -- 表达式。\n",
    "- globals -- 变量作用域，全局命名空间，如果被提供，则必须是一个字典对象。\n",
    "- locals -- 变量作用域，局部命名空间，如果被提供，可以是任何映射对象。"
   ]
  },
  {
   "cell_type": "code",
   "execution_count": 32,
   "metadata": {
    "ExecuteTime": {
     "end_time": "2019-02-16T07:30:06.304732Z",
     "start_time": "2019-02-16T07:30:06.296724Z"
    },
    "collapsed": false
   },
   "outputs": [
    {
     "data": {
      "text/plain": [
       "21"
      ]
     },
     "execution_count": 32,
     "metadata": {},
     "output_type": "execute_result"
    }
   ],
   "source": [
    "x = 7\n",
    "eval('3 * x')"
   ]
  },
  {
   "cell_type": "markdown",
   "metadata": {},
   "source": [
    "**hasattr()**\n",
    "\n",
    "用于判断对象是否包含对应的属性。hasattr(object, name)\n",
    "\n",
    "- object -- 对象。\n",
    "- name -- 字符串，属性名。"
   ]
  },
  {
   "cell_type": "code",
   "execution_count": 33,
   "metadata": {
    "ExecuteTime": {
     "end_time": "2019-02-16T07:31:56.576170Z",
     "start_time": "2019-02-16T07:31:56.568162Z"
    },
    "collapsed": false
   },
   "outputs": [
    {
     "name": "stdout",
     "output_type": "stream",
     "text": [
      "True\n",
      "False\n"
     ]
    }
   ],
   "source": [
    "class Coordinate:\n",
    "    x = 10\n",
    "    y = -5\n",
    "    z = 0\n",
    "\n",
    "p = Coordinate()\n",
    "print(hasattr(p,'x'))\n",
    "print(hasattr(p,'b'))"
   ]
  },
  {
   "cell_type": "markdown",
   "metadata": {},
   "source": [
    "## 模块\n",
    "模块的作用是函数方法的重用，可以被其它程序导入使用。\n",
    "- 可以新建 `.py` 结尾的文件作为模块\n",
    "- 使用 Python 解释器本省的本地语言来编写模块，比如 C 语言。"
   ]
  },
  {
   "cell_type": "markdown",
   "metadata": {},
   "source": [
    "sys.path 内包含了导入模块的字典名称列表。你能观察到 sys.path 的第一段字符串是空的。\n",
    "这一空字符串代表当前目录也是 sys.path 的一部分，它与 PYTHONPATH 环境变量等同。\n",
    "这意味着你可以**直接导入位于当前目录的模块**。否则，你必须将你的模块放置在 **sys.path 内所列出的目录**中。"
   ]
  },
  {
   "cell_type": "code",
   "execution_count": 32,
   "metadata": {
    "collapsed": false
   },
   "outputs": [
    {
     "name": "stdout",
     "output_type": "stream",
     "text": [
      "The command line arguments are:\n",
      "/home/skye/anaconda3/lib/python3.5/site-packages/ipykernel/__main__.py command\n",
      "-f command\n",
      "/run/user/1000/jupyter/kernel-15a8f19e-6d15-405e-8598-df179089176a.json command\n",
      "\n",
      "\n",
      "The PYTHONPATH is ['', '/home/skye/anaconda3/lib/python35.zip', '/home/skye/anaconda3/lib/python3.5', '/home/skye/anaconda3/lib/python3.5/plat-linux', '/home/skye/anaconda3/lib/python3.5/lib-dynload', '/home/skye/anaconda3/lib/python3.5/site-packages', '/home/skye/anaconda3/lib/python3.5/site-packages/Sphinx-1.4.6-py3.5.egg', '/home/skye/anaconda3/lib/python3.5/site-packages/setuptools-27.2.0-py3.5.egg', '/home/skye/anaconda3/lib/python3.5/site-packages/IPython/extensions', '/home/skye/.ipython'] \n",
      "\n"
     ]
    }
   ],
   "source": [
    "import sys\n",
    "\n",
    "print(\"The command line arguments are:\")\n",
    "# 这里显示了 jupyter 的运行参数\n",
    "for i in sys.argv:\n",
    "    print(i,\"command\")\n",
    "    \n",
    "print(\"\\n\\nThe PYTHONPATH is\",sys.path,'\\n')"
   ]
  },
  {
   "cell_type": "markdown",
   "metadata": {},
   "source": [
    "### from..import \n",
    "尽量使用这种形式，避免导入包冲突"
   ]
  },
  {
   "cell_type": "code",
   "execution_count": 33,
   "metadata": {
    "collapsed": false
   },
   "outputs": [
    {
     "name": "stdout",
     "output_type": "stream",
     "text": [
      "Square root of 16 is 4.0\n"
     ]
    }
   ],
   "source": [
    "from math import sqrt\n",
    "print(\"Square root of 16 is\",sqrt(16))"
   ]
  },
  {
   "cell_type": "markdown",
   "metadata": {},
   "source": [
    "### `__name__`\n",
    "每个 Python 模块都有 `__name__ ` 属性，如果他与`__main__`属性相同则代表这一模块是由用户独立运行的"
   ]
  },
  {
   "cell_type": "code",
   "execution_count": 34,
   "metadata": {
    "collapsed": false
   },
   "outputs": [
    {
     "name": "stdout",
     "output_type": "stream",
     "text": [
      "This program is being run by itself\n"
     ]
    }
   ],
   "source": [
    "if __name__ == '__main__':\n",
    "    print('This program is being run by itself')\n",
    "else:\n",
    "    print('I am being imported from another module')"
   ]
  },
  {
   "cell_type": "markdown",
   "metadata": {},
   "source": [
    "### 编写自己的模块\n",
    "每个 python 文件同时也是一个模块"
   ]
  },
  {
   "cell_type": "code",
   "execution_count": null,
   "metadata": {
    "collapsed": true
   },
   "outputs": [],
   "source": [
    "def say_hi():\n",
    "    print('Hi, this is mymodule speaking.')\n",
    "\n",
    "__version__ = '0.1'"
   ]
  },
  {
   "cell_type": "markdown",
   "metadata": {},
   "source": [
    "将上面的程序存储成 `mymodule.py`，并将其放置在与即将使用它的程序相同目录或者`sys.path`下，则可以调用"
   ]
  },
  {
   "cell_type": "code",
   "execution_count": null,
   "metadata": {
    "collapsed": true
   },
   "outputs": [],
   "source": [
    "import mymodule\n",
    "\n",
    "mymodule.say_hi()\n",
    "print(\"version\",mymodule.__version__)"
   ]
  },
  {
   "cell_type": "code",
   "execution_count": null,
   "metadata": {
    "collapsed": true
   },
   "outputs": [],
   "source": [
    "from mymodule import say_hi, __version__\n",
    "\n",
    "say_hi()\n",
    "print('Version', __version__)"
   ]
  },
  {
   "cell_type": "code",
   "execution_count": 35,
   "metadata": {
    "collapsed": false
   },
   "outputs": [
    {
     "name": "stdout",
     "output_type": "stream",
     "text": [
      "The Zen of Python, by Tim Peters\n",
      "\n",
      "Beautiful is better than ugly.\n",
      "Explicit is better than implicit.\n",
      "Simple is better than complex.\n",
      "Complex is better than complicated.\n",
      "Flat is better than nested.\n",
      "Sparse is better than dense.\n",
      "Readability counts.\n",
      "Special cases aren't special enough to break the rules.\n",
      "Although practicality beats purity.\n",
      "Errors should never pass silently.\n",
      "Unless explicitly silenced.\n",
      "In the face of ambiguity, refuse the temptation to guess.\n",
      "There should be one-- and preferably only one --obvious way to do it.\n",
      "Although that way may not be obvious at first unless you're Dutch.\n",
      "Now is better than never.\n",
      "Although never is often better than *right* now.\n",
      "If the implementation is hard to explain, it's a bad idea.\n",
      "If the implementation is easy to explain, it may be a good idea.\n",
      "Namespaces are one honking great idea -- let's do more of those!\n"
     ]
    }
   ],
   "source": [
    "import this"
   ]
  },
  {
   "cell_type": "markdown",
   "metadata": {},
   "source": [
    "### dir 函数\n",
    "返回由对象所定义的名称列表（函数、变量等）。"
   ]
  },
  {
   "cell_type": "code",
   "execution_count": 39,
   "metadata": {
    "collapsed": false
   },
   "outputs": [
    {
     "data": {
      "text/plain": [
       "['__displayhook__',\n",
       " '__doc__',\n",
       " '__excepthook__',\n",
       " '__interactivehook__',\n",
       " '__loader__',\n",
       " '__name__',\n",
       " '__package__',\n",
       " '__spec__',\n",
       " '__stderr__',\n",
       " '__stdin__',\n",
       " '__stdout__',\n",
       " '_clear_type_cache',\n",
       " '_current_frames',\n",
       " '_debugmallocstats',\n",
       " '_getframe',\n",
       " '_home',\n",
       " '_mercurial',\n",
       " '_xoptions',\n",
       " 'abiflags',\n",
       " 'api_version',\n",
       " 'argv',\n",
       " 'base_exec_prefix',\n",
       " 'base_prefix',\n",
       " 'builtin_module_names',\n",
       " 'byteorder',\n",
       " 'call_tracing',\n",
       " 'callstats',\n",
       " 'copyright',\n",
       " 'displayhook',\n",
       " 'dont_write_bytecode',\n",
       " 'exc_info',\n",
       " 'excepthook',\n",
       " 'exec_prefix',\n",
       " 'executable',\n",
       " 'exit',\n",
       " 'flags',\n",
       " 'float_info',\n",
       " 'float_repr_style',\n",
       " 'get_coroutine_wrapper',\n",
       " 'getallocatedblocks',\n",
       " 'getcheckinterval',\n",
       " 'getdefaultencoding',\n",
       " 'getdlopenflags',\n",
       " 'getfilesystemencoding',\n",
       " 'getprofile',\n",
       " 'getrecursionlimit',\n",
       " 'getrefcount',\n",
       " 'getsizeof',\n",
       " 'getswitchinterval',\n",
       " 'gettrace',\n",
       " 'hash_info',\n",
       " 'hexversion',\n",
       " 'implementation',\n",
       " 'int_info',\n",
       " 'intern',\n",
       " 'is_finalizing',\n",
       " 'last_traceback',\n",
       " 'last_type',\n",
       " 'last_value',\n",
       " 'maxsize',\n",
       " 'maxunicode',\n",
       " 'meta_path',\n",
       " 'modules',\n",
       " 'path',\n",
       " 'path_hooks',\n",
       " 'path_importer_cache',\n",
       " 'platform',\n",
       " 'prefix',\n",
       " 'ps1',\n",
       " 'ps2',\n",
       " 'ps3',\n",
       " 'set_coroutine_wrapper',\n",
       " 'setcheckinterval',\n",
       " 'setdlopenflags',\n",
       " 'setprofile',\n",
       " 'setrecursionlimit',\n",
       " 'setswitchinterval',\n",
       " 'settrace',\n",
       " 'stderr',\n",
       " 'stdin',\n",
       " 'stdout',\n",
       " 'thread_info',\n",
       " 'version',\n",
       " 'version_info',\n",
       " 'warnoptions']"
      ]
     },
     "execution_count": 39,
     "metadata": {},
     "output_type": "execute_result"
    }
   ],
   "source": [
    "dir(sys)"
   ]
  },
  {
   "cell_type": "markdown",
   "metadata": {},
   "source": [
    "### 包\n",
    "包是指一个包含模块与一个特殊的 `__init__.py` 文件的文件夹，后者向 Python 表明这一文件夹是特别的，因为其包含了 Python 模块。包是一种能够方便地分层组织模块的方式。\n",
    "\n",
    "让我们这样设想：你想创建一个名为“world”的包，其中还包含着 “asia”、“africa”等其它子包，同时这些子包都包含了诸如“india”、 “madagascar”等模块。"
   ]
  },
  {
   "cell_type": "code",
   "execution_count": null,
   "metadata": {
    "collapsed": true
   },
   "outputs": [],
   "source": [
    "- <some folder present in the sys.path>/\n",
    "    - world/\n",
    "        - __init__.py\n",
    "        - asia/\n",
    "            - __init__.py\n",
    "            - india/\n",
    "                - __init__.py\n",
    "                - foo.py\n",
    "        - africa/\n",
    "            - __init__.py\n",
    "            - madagascar/\n",
    "                - __init__.py\n",
    "                - bar.py"
   ]
  },
  {
   "cell_type": "markdown",
   "metadata": {},
   "source": [
    "## 数据结构\n",
    "Python 有四种内置的数据结构，列表（List）、元组（Tuple）、字典（Dictionary）和集合（Set）"
   ]
  },
  {
   "cell_type": "markdown",
   "metadata": {},
   "source": [
    "### 列表\n",
    "有序项目的集合。可变的数据类型"
   ]
  },
  {
   "cell_type": "code",
   "execution_count": 42,
   "metadata": {
    "collapsed": false
   },
   "outputs": [
    {
     "name": "stdout",
     "output_type": "stream",
     "text": [
      "I have 4 items to pusrchase.\n",
      "These items are: apple mango carrot banana \n",
      "I also have to buy rice.\n",
      "My shopping list is now ['apple', 'mango', 'carrot', 'banana', 'rice']\n",
      "I will sort my list now\n",
      "Sorted shopping list is ['apple', 'banana', 'carrot', 'mango', 'rice']\n",
      "The first item I will buy is apple\n",
      "I bought the apple\n",
      "My shopping list is now ['banana', 'carrot', 'mango', 'rice']\n"
     ]
    }
   ],
   "source": [
    "shoplist = ['apple','mango','carrot','banana']\n",
    "\n",
    "print(\"I have\",len(shoplist),\"items to pusrchase.\")\n",
    "\n",
    "print(\"These items are:\",end=' ')\n",
    "for item in shoplist:\n",
    "    print(item,end=' ')\n",
    "\n",
    "print(\"\\nI also have to buy rice.\")\n",
    "shoplist.append('rice')\n",
    "\n",
    "print(\"My shopping list is now\",shoplist)\n",
    "\n",
    "print(\"I will sort my list now\")\n",
    "shoplist.sort()\n",
    "print(\"Sorted shopping list is\",shoplist)\n",
    "\n",
    "print(\"The first item I will buy is\",shoplist[0])\n",
    "olditem = shoplist[0]\n",
    "del shoplist[0]\n",
    "\n",
    "print('I bought the',olditem)\n",
    "print(\"My shopping list is now\",shoplist)\n"
   ]
  },
  {
   "cell_type": "markdown",
   "metadata": {},
   "source": [
    "### 元组\n",
    "元组（Tuple），不可变.\n",
    "注意，只有一个元素的元组需要加 `,` singelton = (2,)"
   ]
  },
  {
   "cell_type": "code",
   "execution_count": 51,
   "metadata": {
    "collapsed": false
   },
   "outputs": [
    {
     "name": "stdout",
     "output_type": "stream",
     "text": [
      "Number of animals in the zoo is 3\n",
      "Number of cages in the new zoo is 3\n",
      "All animals in new zoo are ('monkey', 'camel', ('python', 'elephant', 'penguin'))\n",
      "Animals brought from old zoo are ('python', 'elephant', 'penguin')\n",
      "Last animal brought from old zoo is penguin\n",
      "Number of animals in the new zoo is 5\n"
     ]
    }
   ],
   "source": [
    "zoo = ('python','elephant','penguin')\n",
    "print('Number of animals in the zoo is',len(zoo))\n",
    "\n",
    "new_zoo = 'monkey','camel',zoo\n",
    "print(\"Number of cages in the new zoo is\",len(new_zoo))\n",
    "print('All animals in new zoo are',new_zoo)\n",
    "print(\"Animals brought from old zoo are\",new_zoo[2])\n",
    "print(\"Last animal brought from old zoo is\",new_zoo[2][2])\n",
    "print(\"Number of animals in the new zoo is\",len(new_zoo)-1+len(new_zoo[2]))"
   ]
  },
  {
   "cell_type": "markdown",
   "metadata": {},
   "source": [
    "### 字典\n",
    "key 唯一，并且是不可变对象"
   ]
  },
  {
   "cell_type": "code",
   "execution_count": 53,
   "metadata": {
    "collapsed": false
   },
   "outputs": [
    {
     "name": "stdout",
     "output_type": "stream",
     "text": [
      "Swaroop's address is Swaroop@swaroop.com\n",
      "\n",
      "There are 3 contacts in the address-book\n",
      "\n",
      "Contact Matedg at fs@egsg.com\n",
      "Contact Skye at skye@skye.org\n",
      "Contact Swaroop at Swaroop@swaroop.com\n",
      "\n",
      "Skye's address is xkhsky@163.com\n"
     ]
    }
   ],
   "source": [
    "ab = {\n",
    "    'Swaroop': 'Swaroop@swaroop.com',\n",
    "    'Skye': 'skye@skye.org',\n",
    "    'Matedg': 'fs@egsg.com',\n",
    "    'Spammer': 'spammer@hotmail.com'\n",
    "}\n",
    "\n",
    "print(\"Swaroop's address is\",ab['Swaroop'])\n",
    "\n",
    "del ab['Spammer']\n",
    "\n",
    "print('\\nThere are {} contacts in the address-book\\n'.format(len(ab)))\n",
    "\n",
    "for name,address in ab.items():\n",
    "    print('Contact {} at {}'.format(name,address))\n",
    "    \n",
    "ab['Skye'] = 'xkhsky@163.com'\n",
    "\n",
    "if 'Skye' in ab:\n",
    "    print(\"\\nSkye's address is\",ab['Skye'])"
   ]
  },
  {
   "cell_type": "code",
   "execution_count": 54,
   "metadata": {
    "collapsed": false
   },
   "outputs": [
    {
     "name": "stdout",
     "output_type": "stream",
     "text": [
      "Help on class dict in module builtins:\n",
      "\n",
      "class dict(object)\n",
      " |  dict() -> new empty dictionary\n",
      " |  dict(mapping) -> new dictionary initialized from a mapping object's\n",
      " |      (key, value) pairs\n",
      " |  dict(iterable) -> new dictionary initialized as if via:\n",
      " |      d = {}\n",
      " |      for k, v in iterable:\n",
      " |          d[k] = v\n",
      " |  dict(**kwargs) -> new dictionary initialized with the name=value pairs\n",
      " |      in the keyword argument list.  For example:  dict(one=1, two=2)\n",
      " |  \n",
      " |  Methods defined here:\n",
      " |  \n",
      " |  __contains__(self, key, /)\n",
      " |      True if D has a key k, else False.\n",
      " |  \n",
      " |  __delitem__(self, key, /)\n",
      " |      Delete self[key].\n",
      " |  \n",
      " |  __eq__(self, value, /)\n",
      " |      Return self==value.\n",
      " |  \n",
      " |  __ge__(self, value, /)\n",
      " |      Return self>=value.\n",
      " |  \n",
      " |  __getattribute__(self, name, /)\n",
      " |      Return getattr(self, name).\n",
      " |  \n",
      " |  __getitem__(...)\n",
      " |      x.__getitem__(y) <==> x[y]\n",
      " |  \n",
      " |  __gt__(self, value, /)\n",
      " |      Return self>value.\n",
      " |  \n",
      " |  __init__(self, /, *args, **kwargs)\n",
      " |      Initialize self.  See help(type(self)) for accurate signature.\n",
      " |  \n",
      " |  __iter__(self, /)\n",
      " |      Implement iter(self).\n",
      " |  \n",
      " |  __le__(self, value, /)\n",
      " |      Return self<=value.\n",
      " |  \n",
      " |  __len__(self, /)\n",
      " |      Return len(self).\n",
      " |  \n",
      " |  __lt__(self, value, /)\n",
      " |      Return self<value.\n",
      " |  \n",
      " |  __ne__(self, value, /)\n",
      " |      Return self!=value.\n",
      " |  \n",
      " |  __new__(*args, **kwargs) from builtins.type\n",
      " |      Create and return a new object.  See help(type) for accurate signature.\n",
      " |  \n",
      " |  __repr__(self, /)\n",
      " |      Return repr(self).\n",
      " |  \n",
      " |  __setitem__(self, key, value, /)\n",
      " |      Set self[key] to value.\n",
      " |  \n",
      " |  __sizeof__(...)\n",
      " |      D.__sizeof__() -> size of D in memory, in bytes\n",
      " |  \n",
      " |  clear(...)\n",
      " |      D.clear() -> None.  Remove all items from D.\n",
      " |  \n",
      " |  copy(...)\n",
      " |      D.copy() -> a shallow copy of D\n",
      " |  \n",
      " |  fromkeys(iterable, value=None, /) from builtins.type\n",
      " |      Returns a new dict with keys from iterable and values equal to value.\n",
      " |  \n",
      " |  get(...)\n",
      " |      D.get(k[,d]) -> D[k] if k in D, else d.  d defaults to None.\n",
      " |  \n",
      " |  items(...)\n",
      " |      D.items() -> a set-like object providing a view on D's items\n",
      " |  \n",
      " |  keys(...)\n",
      " |      D.keys() -> a set-like object providing a view on D's keys\n",
      " |  \n",
      " |  pop(...)\n",
      " |      D.pop(k[,d]) -> v, remove specified key and return the corresponding value.\n",
      " |      If key is not found, d is returned if given, otherwise KeyError is raised\n",
      " |  \n",
      " |  popitem(...)\n",
      " |      D.popitem() -> (k, v), remove and return some (key, value) pair as a\n",
      " |      2-tuple; but raise KeyError if D is empty.\n",
      " |  \n",
      " |  setdefault(...)\n",
      " |      D.setdefault(k[,d]) -> D.get(k,d), also set D[k]=d if k not in D\n",
      " |  \n",
      " |  update(...)\n",
      " |      D.update([E, ]**F) -> None.  Update D from dict/iterable E and F.\n",
      " |      If E is present and has a .keys() method, then does:  for k in E: D[k] = E[k]\n",
      " |      If E is present and lacks a .keys() method, then does:  for k, v in E: D[k] = v\n",
      " |      In either case, this is followed by: for k in F:  D[k] = F[k]\n",
      " |  \n",
      " |  values(...)\n",
      " |      D.values() -> an object providing a view on D's values\n",
      " |  \n",
      " |  ----------------------------------------------------------------------\n",
      " |  Data and other attributes defined here:\n",
      " |  \n",
      " |  __hash__ = None\n",
      "\n"
     ]
    }
   ],
   "source": [
    "help(dict)"
   ]
  },
  {
   "cell_type": "markdown",
   "metadata": {},
   "source": [
    "### 序列\n",
    "列表、元组和字符串都可以看作是序列（Sequence）\n",
    "- in , not in  成员资格测试\n",
    "- 切片 Slicing 运算"
   ]
  },
  {
   "cell_type": "code",
   "execution_count": 55,
   "metadata": {
    "collapsed": false
   },
   "outputs": [
    {
     "name": "stdout",
     "output_type": "stream",
     "text": [
      "Item 0 is apple\n",
      "Item 1 is mango\n",
      "Item 2 is carrot\n",
      "Item 3 is banana\n",
      "Item -1 is banana\n",
      "Item -2 is carrot\n",
      "Character 0 is s\n",
      "Item 1 to 3 is ['mango', 'carrot']\n",
      "Item 2 to end is ['carrot', 'banana']\n",
      "Item 1 to -1 is ['mango', 'carrot']\n",
      "Item start to end is ['apple', 'mango', 'carrot', 'banana']\n",
      "characters 1 to 3 is wa\n",
      "characters 2 to end is aroop\n",
      "characters 1 to -1 is waroo\n",
      "characters start to end is swaroop\n"
     ]
    }
   ],
   "source": [
    "shoplist = ['apple', 'mango', 'carrot', 'banana']\n",
    "name = 'swaroop'\n",
    "# Indexing or 'Subscription' operation #\n",
    "# 索引或“下标（Subscription）”操作符 #\n",
    "print('Item 0 is', shoplist[0])\n",
    "print('Item 1 is', shoplist[1])\n",
    "print('Item 2 is', shoplist[2])\n",
    "print('Item 3 is', shoplist[3])\n",
    "print('Item -1 is', shoplist[-1])\n",
    "print('Item -2 is', shoplist[-2])\n",
    "print('Character 0 is', name[0])\n",
    "# Slicing on a list #\n",
    "print('Item 1 to 3 is', shoplist[1:3])\n",
    "print('Item 2 to end is', shoplist[2:])\n",
    "print('Item 1 to -1 is', shoplist[1:-1])\n",
    "print('Item start to end is', shoplist[:])\n",
    "# 从某一字符串中切片 #\n",
    "print('characters 1 to 3 is', name[1:3])\n",
    "print('characters 2 to end is', name[2:])\n",
    "print('characters 1 to -1 is', name[1:-1])\n",
    "print('characters start to end is', name[:])"
   ]
  },
  {
   "cell_type": "markdown",
   "metadata": {},
   "source": [
    "- 切片步长"
   ]
  },
  {
   "cell_type": "code",
   "execution_count": 57,
   "metadata": {
    "collapsed": false
   },
   "outputs": [
    {
     "name": "stdout",
     "output_type": "stream",
     "text": [
      "['apple', 'mango', 'carrot', 'banana']\n",
      "['apple', 'carrot']\n",
      "['apple', 'banana']\n"
     ]
    }
   ],
   "source": [
    "shoplist = ['apple', 'mango', 'carrot', 'banana']\n",
    "print(shoplist[::1])\n",
    "print(shoplist[::2])\n",
    "print(shoplist[::3])"
   ]
  },
  {
   "cell_type": "markdown",
   "metadata": {},
   "source": [
    "### 集合\n",
    "set 无序集合"
   ]
  },
  {
   "cell_type": "code",
   "execution_count": 59,
   "metadata": {
    "collapsed": false
   },
   "outputs": [
    {
     "name": "stdout",
     "output_type": "stream",
     "text": [
      "True\n",
      "True\n",
      "{'brazil', 'india'}\n"
     ]
    }
   ],
   "source": [
    "bri = set(['brazil', 'russia', 'india'])\n",
    "print('india' in bri)\n",
    "\n",
    "bric = bri.copy()\n",
    "bric.add('china')\n",
    "\n",
    "print(bric.issuperset(bri))\n",
    "\n",
    "bric.remove('russia')\n",
    "\n",
    "print(bri & bric)"
   ]
  },
  {
   "cell_type": "markdown",
   "metadata": {},
   "source": [
    "### 引用\n",
    "当你创建了一个对象并将其分配给某个变量时，变量只会引用（Refer）某个对象，并且它也不会代表对象本身，相当于一个指针指向某个对象。"
   ]
  },
  {
   "cell_type": "code",
   "execution_count": 60,
   "metadata": {
    "collapsed": false
   },
   "outputs": [
    {
     "name": "stdout",
     "output_type": "stream",
     "text": [
      "Simple Assignment\n",
      "shoplist is ['mango', 'carrot', 'banana']\n",
      "mylist is ['mango', 'carrot', 'banana']\n",
      "Copy by making a full slice\n",
      "shoplist is ['mango', 'carrot', 'banana']\n",
      "mylist is ['carrot', 'banana']\n"
     ]
    }
   ],
   "source": [
    "print('Simple Assignment')\n",
    "shoplist = ['apple', 'mango', 'carrot', 'banana']\n",
    "# mylist 只是指向同一对象的另一种名称\n",
    "mylist = shoplist\n",
    "\n",
    "del shoplist[0]\n",
    "\n",
    "print('shoplist is',shoplist)\n",
    "print('mylist is',mylist)\n",
    "# 注意到 shoplist 和 mylist 二者都\n",
    "# 打印出了其中都没有 apple 的同样的列表，以此我们确认\n",
    "# 它们指向的是同一个对象\n",
    "\n",
    "print('Copy by making a full slice')\n",
    "# 通过生成一份完整的切片制作一份列表的副本\n",
    "mylist = shoplist[:]\n",
    "# 删除第一个项目\n",
    "del mylist[0]\n",
    "print('shoplist is', shoplist)\n",
    "print('mylist is', mylist)\n",
    "# 注意到现在两份列表已出现不同"
   ]
  },
  {
   "cell_type": "markdown",
   "metadata": {},
   "source": [
    "### 字符串的更多内容\n",
    "字符串也是对象，有自己的方法"
   ]
  },
  {
   "cell_type": "code",
   "execution_count": null,
   "metadata": {
    "collapsed": true
   },
   "outputs": [],
   "source": [
    "help(str)"
   ]
  },
  {
   "cell_type": "code",
   "execution_count": 64,
   "metadata": {
    "collapsed": false
   },
   "outputs": [
    {
     "name": "stdout",
     "output_type": "stream",
     "text": [
      "Yes,the string starts with Swa\n",
      "Yes,it contains the string \"a\"\n",
      "Yes,it contains the string \"war\"\n",
      "Brazil_*_Russia_*_India_*_China\n"
     ]
    }
   ],
   "source": [
    "name = 'Swaroop'\n",
    "\n",
    "if name.startswith('Swa'):\n",
    "    print('Yes,the string starts with Swa')\n",
    "    \n",
    "if 'a' in name:\n",
    "    print('Yes,it contains the string \"a\"')\n",
    "    \n",
    "if name.find('war') != -1:\n",
    "    print('Yes,it contains the string \"war\"')\n",
    "    \n",
    "delimiter = '_*_'\n",
    "mylist = ['Brazil','Russia','India','China']\n",
    "print(delimiter.join(mylist))"
   ]
  },
  {
   "cell_type": "markdown",
   "metadata": {},
   "source": [
    "## 阶段练习\n",
    "我想要一款程序来备份我所有的重要文件。\n",
    "\n",
    "设计\n",
    "- 需要备份的文件与目录应在一份列表中予以指定。\n",
    "- 备份必须存储在一个主备份目录中。 \n",
    "- 备份文件将打包压缩成 zip 文件。 \n",
    "- zip 压缩文件的文件名由当前日期与时间构成。 \n",
    "- 我们使用在任何 GNU/Linux 或\tUnix 发行版中都会默认提供的标准 zip 命令进行打包。 在这里你需要了解到只要有命令行界面，你就可以使用任何需要用到的压缩或归档命 令。\n"
   ]
  },
  {
   "cell_type": "code",
   "execution_count": 1,
   "metadata": {
    "collapsed": false
   },
   "outputs": [
    {
     "name": "stdout",
     "output_type": "stream",
     "text": [
      "Zip command is:\n",
      "zip -r /home/skye/workspace/python-data-analysis/backup/20190101220955.zip /home/skye/workspace/python-data-analysis/testdoc\n",
      "Running:\n",
      "Successful backup to /home/skye/workspace/python-data-analysis/backup/20190101220955.zip\n"
     ]
    }
   ],
   "source": [
    "# 实现\n",
    "import os\n",
    "import time\n",
    "\n",
    "# 指定备份列表\n",
    "#例如在Windows\t下：\n",
    "#source=['\"C:\\\\My Documents\"',C:\\\\Code'] \n",
    "\n",
    "source = [\"/home/skye/workspace/python-data-analysis/testdoc\"]\n",
    "\n",
    "# 备份存储目录\n",
    "target_dir = \"/home/skye/workspace/python-data-analysis/backup\"\n",
    "\n",
    "target = target_dir + os.sep + \\\n",
    "        time.strftime('%Y%m%d%H%M%S') + '.zip'\n",
    "\n",
    "if not os.path.exists(target_dir):\n",
    "    os.mkdir(target_dir)\n",
    "    \n",
    "zip_command = 'zip -r {0} {1}'.format(target,' '.join(source))\n",
    "\n",
    "print('Zip command is:')\n",
    "print(zip_command)\n",
    "print('Running:')\n",
    "if os.system(zip_command) == 0:\n",
    "    print(\"Successful backup to\",target)\n",
    "else:\n",
    "    print('Backup FAILED')"
   ]
  },
  {
   "cell_type": "markdown",
   "metadata": {
    "collapsed": true
   },
   "source": [
    "- 第二版：改用日期作为文件夹，可以按天进行备份"
   ]
  },
  {
   "cell_type": "code",
   "execution_count": 2,
   "metadata": {
    "collapsed": false
   },
   "outputs": [
    {
     "name": "stdout",
     "output_type": "stream",
     "text": [
      "Zip command is:\n",
      "zip -r /home/skye/workspace/python-data-analysis/backup/20190101/225805.zip /home/skye/workspace/python-data-analysis/testdoc\n",
      "Running:\n",
      "Successful backup to /home/skye/workspace/python-data-analysis/backup/20190101/225805.zip\n"
     ]
    }
   ],
   "source": [
    "# 实现\n",
    "import os\n",
    "import time\n",
    "\n",
    "# 指定备份列表\n",
    "#例如在Windows\t下：\n",
    "#source=['\"C:\\\\My Documents\"',C:\\\\Code'] \n",
    "\n",
    "source = [\"/home/skye/workspace/python-data-analysis/testdoc\"]\n",
    "\n",
    "# 备份存储目录\n",
    "target_dir = \"/home/skye/workspace/python-data-analysis/backup\"\n",
    "\n",
    "\n",
    "\n",
    "if not os.path.exists(target_dir):\n",
    "    os.mkdir(target_dir)\n",
    "\n",
    "# 当天文件路径\n",
    "today = target_dir + os.sep + time.strftime('%Y%m%d')\n",
    "# 时间作为文件夹名\n",
    "now =  time.strftime('%H%M%S')\n",
    "\n",
    "target = today + os.sep + now + '.zip'\n",
    "\n",
    "if not os.path.exists(today):\n",
    "    os.mkdir(today)\n",
    "\n",
    "zip_command = 'zip -r {0} {1}'.format(target,' '.join(source))\n",
    "\n",
    "print('Zip command is:')\n",
    "print(zip_command)\n",
    "print('Running:')\n",
    "# 运行备份\n",
    "if os.system(zip_command) == 0:\n",
    "    print(\"Successful backup to\",target)\n",
    "else:\n",
    "    print('Backup FAILED')"
   ]
  },
  {
   "cell_type": "markdown",
   "metadata": {},
   "source": [
    "- 第三版：将注释内容加到文件名中，目的是加上文件修改提示\n",
    "\n",
    "注意：这个版本无法运行会出错"
   ]
  },
  {
   "cell_type": "code",
   "execution_count": 6,
   "metadata": {
    "collapsed": false
   },
   "outputs": [
    {
     "ename": "SyntaxError",
     "evalue": "invalid syntax (<ipython-input-6-84591520d0fa>, line 32)",
     "output_type": "error",
     "traceback": [
      "\u001b[0;36m  File \u001b[0;32m\"<ipython-input-6-84591520d0fa>\"\u001b[0;36m, line \u001b[0;32m32\u001b[0m\n\u001b[0;31m    target = today + os.sep + now + '_' +\u001b[0m\n\u001b[0m                                          ^\u001b[0m\n\u001b[0;31mSyntaxError\u001b[0m\u001b[0;31m:\u001b[0m invalid syntax\n"
     ]
    }
   ],
   "source": [
    "# 实现\n",
    "import os\n",
    "import time\n",
    "\n",
    "# 指定备份列表\n",
    "#例如在Windows\t下：\n",
    "#source=['\"C:\\\\My Documents\"',C:\\\\Code'] \n",
    "\n",
    "source = [\"/home/skye/workspace/python-data-analysis/testdoc\"]\n",
    "\n",
    "# 备份存储目录\n",
    "target_dir = \"/home/skye/workspace/python-data-analysis/backup\"\n",
    "\n",
    "\n",
    "\n",
    "if not os.path.exists(target_dir):\n",
    "    os.mkdir(target_dir)\n",
    "\n",
    "# 当天文件路径\n",
    "today = target_dir + os.sep + time.strftime('%Y%m%d')\n",
    "# 时间作为文件夹名\n",
    "now =  time.strftime('%H%M%S')\n",
    "\n",
    "# 添加一条注释\n",
    "comment = input('Enter a comment ...')\n",
    "\n",
    "print('Comment is :',comment)\n",
    "# 检查是否有输入\n",
    "if len(comment) == 0:\n",
    "    target = today + os.sep + now + '.zip'\n",
    "else:\n",
    "    target = today + os.sep + now + '_' + \n",
    "    comment.replace(' ','_') + '.zip'\n",
    "\n",
    "\n",
    "if not os.path.exists(today):\n",
    "    os.mkdir(today)\n",
    "    print('Successfully\tcreated\tdirectory',\ttoday)\n",
    "\n",
    "zip_command = 'zip -r {0} {1}'.format(target,' '.join(source))\n",
    "\n",
    "print('Zip command is:')\n",
    "print(zip_command)\n",
    "print('Running:')\n",
    "# 运行备份\n",
    "if os.system(zip_command) == 0:\n",
    "    print(\"Successful backup to\",target)\n",
    "else:\n",
    "    print('Backup FAILED')"
   ]
  },
  {
   "cell_type": "markdown",
   "metadata": {},
   "source": [
    "上面程序出错的原因是 + 没有操作数，换行时应该加上 \\\n",
    "- 第四版"
   ]
  },
  {
   "cell_type": "code",
   "execution_count": 7,
   "metadata": {
    "collapsed": false,
    "scrolled": true
   },
   "outputs": [
    {
     "name": "stdout",
     "output_type": "stream",
     "text": [
      "Enter a comment ...test\n",
      "Comment is : test\n",
      "Zip command is:\n",
      "zip -r /home/skye/workspace/python-data-analysis/backup/20190101/230859_test.zip /home/skye/workspace/python-data-analysis/testdoc\n",
      "Running:\n",
      "Successful backup to /home/skye/workspace/python-data-analysis/backup/20190101/230859_test.zip\n"
     ]
    }
   ],
   "source": [
    "# 实现\n",
    "import os\n",
    "import time\n",
    "\n",
    "# 指定备份列表\n",
    "#例如在Windows\t下：\n",
    "#source=['\"C:\\\\My Documents\"',C:\\\\Code'] \n",
    "\n",
    "source = [\"/home/skye/workspace/python-data-analysis/testdoc\"]\n",
    "\n",
    "# 备份存储目录\n",
    "target_dir = \"/home/skye/workspace/python-data-analysis/backup\"\n",
    "\n",
    "\n",
    "\n",
    "if not os.path.exists(target_dir):\n",
    "    os.mkdir(target_dir)\n",
    "\n",
    "# 当天文件路径\n",
    "today = target_dir + os.sep + time.strftime('%Y%m%d')\n",
    "# 时间作为文件夹名\n",
    "now =  time.strftime('%H%M%S')\n",
    "\n",
    "# 添加一条注释\n",
    "comment = input('Enter a comment ...')\n",
    "\n",
    "print('Comment is :',comment)\n",
    "# 检查是否有输入\n",
    "if len(comment) == 0:\n",
    "    target = today + os.sep + now + '.zip'\n",
    "else:\n",
    "    target = today + os.sep + now + '_' + \\\n",
    "    comment.replace(' ','_') + '.zip'\n",
    "\n",
    "\n",
    "if not os.path.exists(today):\n",
    "    os.mkdir(today)\n",
    "    print('Successfully\tcreated\tdirectory',\ttoday)\n",
    "\n",
    "zip_command = 'zip -r {0} {1}'.format(target,' '.join(source))\n",
    "\n",
    "print('Zip command is:')\n",
    "print(zip_command)\n",
    "print('Running:')\n",
    "# 运行备份\n",
    "if os.system(zip_command) == 0:\n",
    "    print(\"Successful backup to\",target)\n",
    "else:\n",
    "    print('Backup FAILED')"
   ]
  },
  {
   "cell_type": "markdown",
   "metadata": {},
   "source": [
    "- 第五版：不使用系统命令，使用 python 的标准库 zipfile"
   ]
  },
  {
   "cell_type": "code",
   "execution_count": 9,
   "metadata": {
    "collapsed": false
   },
   "outputs": [
    {
     "name": "stdout",
     "output_type": "stream",
     "text": [
      "Enter a comment ...test6\n",
      "Comment is : test6\n",
      "Target zip file is : /home/skye/workspace/python-data-analysis/backup/20190101/233536_test6.zip\n",
      "Running:\n",
      "['home/skye/workspace/python-data-analysis/testdoc/a.txt', 'home/skye/workspace/python-data-analysis/testdoc/b.txt']\n",
      "End\n"
     ]
    }
   ],
   "source": [
    "# 实现\n",
    "import os\n",
    "import time\n",
    "import zipfile\n",
    "\n",
    "# 指定备份列表\n",
    "#例如在Windows\t下：\n",
    "#source=['\"C:\\\\My Documents\"',C:\\\\Code'] \n",
    "\n",
    "source = [\"/home/skye/workspace/python-data-analysis/testdoc\"]\n",
    "\n",
    "# 备份存储目录\n",
    "target_dir = \"/home/skye/workspace/python-data-analysis/backup\"\n",
    "\n",
    "\n",
    "\n",
    "if not os.path.exists(target_dir):\n",
    "    os.mkdir(target_dir)\n",
    "\n",
    "# 当天文件路径\n",
    "today = target_dir + os.sep + time.strftime('%Y%m%d')\n",
    "# 时间作为文件夹名\n",
    "now =  time.strftime('%H%M%S')\n",
    "\n",
    "# 添加一条注释\n",
    "comment = input('Enter a comment ...')\n",
    "\n",
    "print('Comment is :',comment)\n",
    "# 检查是否有输入\n",
    "if len(comment) == 0:\n",
    "    target = today + os.sep + now + '.zip'\n",
    "else:\n",
    "    target = today + os.sep + now + '_' + \\\n",
    "    comment.replace(' ','_') + '.zip'\n",
    "\n",
    "print('Target zip file is :',target)\n",
    "\n",
    "if not os.path.exists(today):\n",
    "    os.mkdir(today)\n",
    "    print('Successfully\tcreated\tdirectory',\ttoday)\n",
    "\n",
    "\n",
    "print('Running:')\n",
    "# 运行备份\n",
    "\n",
    "with zipfile.ZipFile(target,'w') as myzip:\n",
    "    for name in source:\n",
    "        # 遍历文件夹下所有目录，压缩所有文件\n",
    "        for root, dirs, files in os.walk(name,True):\n",
    "            for file in files:\n",
    "                 myzip.write(os.path.join(root,file))\n",
    "       \n",
    "print(zipfile.ZipFile(target).namelist())\n",
    "print('End')"
   ]
  },
  {
   "cell_type": "markdown",
   "metadata": {},
   "source": [
    "程序编写过程\n",
    "\n",
    "1.\tWhat/做什么（分析）\n",
    "2.\tHow/怎么做（设计）\n",
    "3.\tDo\tIt/开始做（执行）\n",
    "4.\tTest/测试（测试与修复错误）\n",
    "5.\tUse/使用（操作或开发）\n",
    "6.\tMaintain/维护（改进"
   ]
  },
  {
   "cell_type": "markdown",
   "metadata": {},
   "source": [
    "## 面向对象\n",
    "- 围绕函数设计程序为面向过程的变成方式。如何做？\n",
    "- 将数据和功能进行组合，并将其包装在“对象”中，为面向对象编程。谁来做?\n",
    "\n",
    "对象（Object）是类（Class）的实例（Instance）。\n",
    "- 字段（Field）：从属于对象或类的变量。分为实例变量（Instance Variables）与类变量（Class Variables）\n",
    "- 方法（Method）：类的函数方法\n",
    "- 属性（Attribute）：字段与方法的统称"
   ]
  },
  {
   "cell_type": "markdown",
   "metadata": {},
   "source": [
    "### 类"
   ]
  },
  {
   "cell_type": "code",
   "execution_count": 2,
   "metadata": {
    "collapsed": false
   },
   "outputs": [
    {
     "name": "stdout",
     "output_type": "stream",
     "text": [
      "<__main__.Person object at 0x7f519e4c9320>\n"
     ]
    }
   ],
   "source": [
    "class Person:\n",
    "    pass\n",
    "# 创建一个类的实例\n",
    "p = Person()\n",
    "print(p)"
   ]
  },
  {
   "cell_type": "markdown",
   "metadata": {},
   "source": [
    "### 方法\n",
    "类方法与普通函数的区别就是，类方法中第一个参数需要为 `self`，约定俗成，在调用时并不需要赋值。相当于 `java` 中的 `this` 关键字。\n",
    "举个例子，`Myclas`s 类有一个实例 `myobject`，调用一个对象的方法，`myobject.method(arg1,arg2)`，`python` 会自动转换成 `myobject.method(myobject,arg1,arg2)`"
   ]
  },
  {
   "cell_type": "code",
   "execution_count": 3,
   "metadata": {
    "collapsed": false
   },
   "outputs": [
    {
     "name": "stdout",
     "output_type": "stream",
     "text": [
      "Hello,how are you?\n"
     ]
    }
   ],
   "source": [
    "class Person:\n",
    "    def say_hi(self):\n",
    "        print(\"Hello,how are you?\")\n",
    "        \n",
    "p = Person()\n",
    "p.say_hi()"
   ]
  },
  {
   "cell_type": "markdown",
   "metadata": {},
   "source": [
    "- `__init__`方法\n",
    "\n",
    "此方法会在类的对象被实例化（Instantiated）时立即运行，用来初始化变量等。"
   ]
  },
  {
   "cell_type": "code",
   "execution_count": 6,
   "metadata": {
    "collapsed": false
   },
   "outputs": [
    {
     "name": "stdout",
     "output_type": "stream",
     "text": [
      "Hello, my name is Skye\n"
     ]
    }
   ],
   "source": [
    "class Person:\n",
    "    def __init__(self,name):\n",
    "        self.name = name\n",
    "        \n",
    "    def say_hi(self):\n",
    "        print(\"Hello, my name is\",self.name)\n",
    "p = Person(\"Skye\")\n",
    "p.say_hi()"
   ]
  },
  {
   "cell_type": "markdown",
   "metadata": {},
   "source": [
    "### 类变量与实例变量\n",
    "- 类变量：与类绑定，写在方法外，数值变动后所有实例都会改变\n",
    "- 实例变量：与对象或者实例绑定，通常在 `__init__` 方法中定义"
   ]
  },
  {
   "cell_type": "code",
   "execution_count": 7,
   "metadata": {
    "collapsed": false
   },
   "outputs": [
    {
     "name": "stdout",
     "output_type": "stream",
     "text": [
      "(Initializing R2-D2)\n",
      "Greeting, my masters call me R2-D2\n",
      "We have 1 robots\n",
      "(Initializing c-3P)\n",
      "Greeting, my masters call me c-3P\n",
      "We have 2 robots\n",
      "\n",
      "Robots can do some work here.\n",
      "\n",
      "Robots have finished their work. So let's destory them.\n",
      "R2-D2 is being destroyed\n",
      "There are still 1 robots working\n",
      "c-3P is being destroyed\n",
      "c-3P was the last one\n",
      "We have 0 robots\n"
     ]
    }
   ],
   "source": [
    "class Robot:\n",
    "    \"\"\"表示有一个带有名字的机器人\"\"\"\n",
    "    \n",
    "    # 类变量，表示机器人的数量\n",
    "    population = 0\n",
    "    \n",
    "    def __init__(self,name):\n",
    "        \"\"\"初始化数据\"\"\"\n",
    "        # 实例变量\n",
    "        self.name = name\n",
    "        print(\"(Initializing {0})\".format(self.name))\n",
    "        \n",
    "        # 人口加1\n",
    "        Robot.population += 1\n",
    "        \n",
    "    def die(self):\n",
    "        \"\"\"当前机器人死亡\"\"\"\n",
    "        print(\"{} is being destroyed\".format(self.name))\n",
    "        \n",
    "        Robot.population -= 1\n",
    "        \n",
    "        if Robot.population == 0:\n",
    "            print(\"{} was the last one\".format(self.name))\n",
    "        else:\n",
    "            print(\"There are still {:d} robots working\".format(Robot.population))\n",
    "            \n",
    "    def say_hi(self):\n",
    "        \"\"\"机器人说话\"\"\"\n",
    "        print(\"Greeting, my masters call me {}\".format(self.name))\n",
    "    \n",
    "    # 装饰器，将方法标记为类方法\n",
    "    @classmethod\n",
    "    def how_many(cls):\n",
    "        \"\"\"机器人数量\"\"\"\n",
    "        print(\"We have {:d} robots\".format(cls.population))\n",
    "        \n",
    "droid1 = Robot(\"R2-D2\")\n",
    "droid1.say_hi()\n",
    "Robot.how_many()\n",
    "\n",
    "droid2 = Robot(\"c-3P\")\n",
    "droid2.say_hi()\n",
    "Robot.how_many()\n",
    "\n",
    "print(\"\\nRobots can do some work here.\\n\")\n",
    "\n",
    "print(\"Robots have finished their work. So let's destory them.\")\n",
    "\n",
    "droid1.die()\n",
    "droid2.die()\n",
    "Robot.how_many()"
   ]
  },
  {
   "cell_type": "code",
   "execution_count": 10,
   "metadata": {
    "collapsed": false
   },
   "outputs": [
    {
     "data": {
      "text/plain": [
       "'表示有一个带有名字的机器人'"
      ]
     },
     "execution_count": 10,
     "metadata": {},
     "output_type": "execute_result"
    }
   ],
   "source": [
    "Robot.__doc__"
   ]
  },
  {
   "cell_type": "markdown",
   "metadata": {},
   "source": [
    "**私有变量和方法**\n",
    "\n",
    "\n",
    "- `_xxx`： 单划线开头，“虽然我可以被访问，但是，请把我视为私有变量，不要随意访问”\n",
    "- `__xxx`: 双划线开头，私有方法或者变量，相当于 java 中的 private\n",
    "- `__xxx__`： 前后双划线，特殊变量，特殊变量是可以直接访问的\n",
    "\n",
    "可以增加 get 和 set 方法访问私有成员变量"
   ]
  },
  {
   "cell_type": "code",
   "execution_count": 18,
   "metadata": {
    "collapsed": true
   },
   "outputs": [],
   "source": [
    "class Student(object):\n",
    "\n",
    "    def __init__(self, name, score):\n",
    "        self.__name = name\n",
    "        self.__score = score\n",
    "\n",
    "    def print_score(self):\n",
    "        print('{:s}: {:s}'.format(self.__name, self.__score))"
   ]
  },
  {
   "cell_type": "code",
   "execution_count": 19,
   "metadata": {
    "collapsed": false,
    "scrolled": false
   },
   "outputs": [
    {
     "ename": "AttributeError",
     "evalue": "'Student' object has no attribute '__name'",
     "output_type": "error",
     "traceback": [
      "\u001b[0;31m---------------------------------------------------------------------------\u001b[0m",
      "\u001b[0;31mAttributeError\u001b[0m                            Traceback (most recent call last)",
      "\u001b[0;32m<ipython-input-19-ed93bb580d2d>\u001b[0m in \u001b[0;36m<module>\u001b[0;34m()\u001b[0m\n\u001b[1;32m      1\u001b[0m \u001b[0mbart\u001b[0m \u001b[0;34m=\u001b[0m \u001b[0mStudent\u001b[0m\u001b[0;34m(\u001b[0m\u001b[0;34m'Bart Simpson'\u001b[0m\u001b[0;34m,\u001b[0m \u001b[0;36m59\u001b[0m\u001b[0;34m)\u001b[0m\u001b[0;34m\u001b[0m\u001b[0m\n\u001b[0;32m----> 2\u001b[0;31m \u001b[0mbart\u001b[0m\u001b[0;34m.\u001b[0m\u001b[0m__name\u001b[0m\u001b[0;34m\u001b[0m\u001b[0m\n\u001b[0m",
      "\u001b[0;31mAttributeError\u001b[0m: 'Student' object has no attribute '__name'"
     ]
    }
   ],
   "source": [
    "bart = Student('Bart Simpson', 59)\n",
    "bart.__name"
   ]
  },
  {
   "cell_type": "markdown",
   "metadata": {},
   "source": [
    "其实，Python并没有真正的私有化支持，可以通过 `obj._Class__var` 访问"
   ]
  },
  {
   "cell_type": "code",
   "execution_count": 20,
   "metadata": {
    "collapsed": false
   },
   "outputs": [
    {
     "data": {
      "text/plain": [
       "'Bart Simpson'"
      ]
     },
     "execution_count": 20,
     "metadata": {},
     "output_type": "execute_result"
    }
   ],
   "source": [
    "bart._Student__name"
   ]
  },
  {
   "cell_type": "markdown",
   "metadata": {},
   "source": [
    "### 继承\n",
    "代码重用，子类继承父类的属性。\n",
    "- 在定义类后面加一个元祖，标识父类，可以多继承\n",
    "- 构造方法中需要显式调用父类构造方法"
   ]
  },
  {
   "cell_type": "code",
   "execution_count": 34,
   "metadata": {
    "ExecuteTime": {
     "end_time": "2019-02-16T07:47:58.882298Z",
     "start_time": "2019-02-16T07:47:58.845396Z"
    },
    "collapsed": false,
    "scrolled": true
   },
   "outputs": [
    {
     "name": "stdout",
     "output_type": "stream",
     "text": [
      "(Initialized SchoolMember: Mr. Yu)\n",
      "(Initialized Teacher: Mr. Yu)\n",
      "(Initialized SchoolMember: Skye)\n",
      "(Initialized Student: Skye)\n",
      "\n",
      "Name:\"Mr. Yu\" Age:\"50\" Salary: \"30000\"\n",
      "Name:\"Skye\" Age:\"25\" Marks: \"75\" \n"
     ]
    }
   ],
   "source": [
    "class SchoolMember:\n",
    "    '''代表任何学校里的成员'''\n",
    "    def __init__(self, name, age):\n",
    "        self.name = name \n",
    "        self.age = age\n",
    "        print(\"(Initialized SchoolMember: {})\".format(self.name))\n",
    "        \n",
    "    def tell(self):\n",
    "        \"\"\"人员信息\"\"\"\n",
    "        print('Name:\"{}\" Age:\"{}\"'.format(self.name,self.age),end = \" \")\n",
    "        \n",
    "class Teacher(SchoolMember):\n",
    "    \"\"\"表示一位老师\"\"\"\n",
    "    def __init__(self, name, age, salary):\n",
    "        # 调用父类初始化函数\n",
    "        SchoolMember.__init__(self,name,age)\n",
    "        self.salary = salary\n",
    "        print(\"(Initialized Teacher: {})\".format(self.name))\n",
    "        \n",
    "    def tell(self):\n",
    "        SchoolMember.tell(self)\n",
    "        print('Salary: \"{:d}\"' .format(self.salary))\n",
    "        \n",
    "class Student(SchoolMember):\n",
    "    \"\"\"表示一个学生\"\"\"\n",
    "    def __init__(self, name, age, marks):\n",
    "        SchoolMember.__init__(self,name,age)\n",
    "        self.marks = marks\n",
    "        print(\"(Initialized Student: {})\".format(self.name))\n",
    "        \n",
    "    def tell(self):\n",
    "        SchoolMember.tell(self)\n",
    "        print('Marks: \"{:d}\" '.format(self.marks))     \n",
    "        \n",
    "t = Teacher('Mr. Yu',50,30000)\n",
    "s = Student('Skye',25,75)\n",
    "\n",
    "print()\n",
    "\n",
    "members = [t,s]\n",
    "\n",
    "for member in members:\n",
    "    member.tell()"
   ]
  },
  {
   "cell_type": "markdown",
   "metadata": {},
   "source": [
    "### 其它补充\n",
    "- 类的动态性\n"
   ]
  },
  {
   "cell_type": "code",
   "execution_count": 36,
   "metadata": {
    "ExecuteTime": {
     "end_time": "2019-02-16T07:49:50.384445Z",
     "start_time": "2019-02-16T07:49:50.376460Z"
    },
    "collapsed": false
   },
   "outputs": [
    {
     "name": "stdout",
     "output_type": "stream",
     "text": [
      "alex\n"
     ]
    },
    {
     "data": {
      "text/plain": [
       "'alex'"
      ]
     },
     "execution_count": 36,
     "metadata": {},
     "output_type": "execute_result"
    }
   ],
   "source": [
    "class Student(object):\n",
    "    pass\n",
    "s = Student()\n",
    "s.name = 'alex'\n",
    "print(s.name)\n",
    "\n",
    "#相当于 \n",
    "s.__setattr__(\"name\",\"alex\") \n",
    "s.__getattribute__(\"name\")"
   ]
  },
  {
   "cell_type": "markdown",
   "metadata": {
    "collapsed": true
   },
   "source": [
    "## 输入与输出\n"
   ]
  },
  {
   "cell_type": "markdown",
   "metadata": {},
   "source": [
    "### 用户输入内容"
   ]
  },
  {
   "cell_type": "code",
   "execution_count": 24,
   "metadata": {
    "collapsed": false
   },
   "outputs": [
    {
     "name": "stdout",
     "output_type": "stream",
     "text": [
      "Enter text: madam\n",
      "Yes, it is a palindrome\n"
     ]
    }
   ],
   "source": [
    "def reverse(text):\n",
    "    return text[::-1]\n",
    "\n",
    "def is_palindrome(text):\n",
    "    \"\"\"判断是否是回文串\"\"\"\n",
    "    return text == reverse(text)\n",
    "\n",
    "something = input(\"Enter text: \")\n",
    "if is_palindrome(something):\n",
    "    print(\"Yes, it is a palindrome\")\n",
    "else:\n",
    "    print(\"No, it is not a palidrome\")"
   ]
  },
  {
   "cell_type": "markdown",
   "metadata": {},
   "source": [
    "**扩展切片语法 `s[begin : end : step]`**\n",
    "step 为步长参数\n",
    "\n",
    "-  当step参数为正值（positive）时，表明切片操作从左至右（即正向）访问源序列s的元素，此时，若begin和end参数有缺省，则 begin = 0,end = length, 并且要求 begin < end，否则为空。\n",
    "-  当step参数为负值（negative）时，表明切片操作从右至左（即逆向）访问源序列s的元素，此时，若begin和end参数有缺省，则 begin = length - 1 , end = 0前面一个位置, 并且要求 begin > end , 否则为空。\n",
    "\n"
   ]
  },
  {
   "cell_type": "code",
   "execution_count": 36,
   "metadata": {
    "collapsed": false
   },
   "outputs": [
    {
     "name": "stdout",
     "output_type": "stream",
     "text": [
      "dcb\n"
     ]
    }
   ],
   "source": [
    "test = \"abcd\"\n",
    "print(test[:0:-1])"
   ]
  },
  {
   "cell_type": "markdown",
   "metadata": {
    "collapsed": true
   },
   "source": [
    "**小练习**\n",
    "\n",
    "要想检查文本是否属于回文需要忽略其中的标点、空格与大小写。例如，“Rise to vote, sir.”是一段回文文本，但是我们现有的程序不会这么认为。你可以改进上面的程序以使它能够识别这段回文吗？"
   ]
  },
  {
   "cell_type": "code",
   "execution_count": 42,
   "metadata": {
    "collapsed": false
   },
   "outputs": [
    {
     "name": "stdout",
     "output_type": "stream",
     "text": [
      "Enter text: Rise to vote, sir.\n",
      "Yes, it is a palindrome\n"
     ]
    }
   ],
   "source": [
    "def reverse(text):\n",
    "    return text[::-1]\n",
    "\n",
    "def replace(text):\n",
    "    forbidden = ( '!' ,'?' , '.' , '...',' ')\n",
    "    new_text = []\n",
    "    for ch in text.lower():\n",
    "        if ch not in forbidden:\n",
    "            new_text.append(ch)\n",
    "        return \"\".join(new_text)\n",
    "    \n",
    "def is_palindrome(text):\n",
    "    \"\"\"判断是否是回文串\"\"\"\n",
    "    text = replace(text)\n",
    "    return text == reverse(text)\n",
    "\n",
    "something = input(\"Enter text: \")\n",
    "if is_palindrome(something):\n",
    "    print(\"Yes, it is a palindrome\")\n",
    "else:\n",
    "    print(\"No, it is not a palidrome\")"
   ]
  },
  {
   "cell_type": "markdown",
   "metadata": {},
   "source": [
    "### 文件\n",
    "\n",
    "通过创建一个 file 类对象，并使用 read、write，readline 方法来打开文件读取或者写入内容，最后需要调用 close 方法。/\n",
    "\n",
    "打开模式可以是阅读模式（ 'r' ），写入模式（ 'w' ）和追加模式（ 'a' ）。我们还可以选择是通过文本模式（ 't' ）还是二进制模式（ 'b' ）来读取、写入或追加文本。实际上还有其它更多的模式可用， help(open) 会给你有关它们的更多细节。"
   ]
  },
  {
   "cell_type": "code",
   "execution_count": 3,
   "metadata": {
    "collapsed": false
   },
   "outputs": [
    {
     "name": "stdout",
     "output_type": "stream",
     "text": [
      "Programing is fun \n",
      "when the work is done\n",
      "if you wanna make your work also fun:\n",
      "    use python!\n"
     ]
    }
   ],
   "source": [
    "poem = \"\"\"\\\n",
    "Programing is fun \n",
    "when the work is done\n",
    "if you wanna make your work also fun:\n",
    "    use python!\n",
    "\"\"\"\n",
    "\n",
    "# 打开文件,并写入\n",
    "f = open('poem.txt','w')\n",
    "f.write(poem)\n",
    "f.close()\n",
    "\n",
    "# 如果没有指定编辑模式，则默认是读模式 r\n",
    "f = open('poem.txt')\n",
    "while True:\n",
    "    line = f.readline()\n",
    "    if len(line) == 0:\n",
    "        break\n",
    "        \n",
    "    print(line,end='')\n",
    "    \n",
    "f.close()\n"
   ]
  },
  {
   "cell_type": "markdown",
   "metadata": {},
   "source": [
    "### Pickle 对象持久化\n",
    "\n",
    "python 通过标准模块 pickle 来持久化存储对象到文件中"
   ]
  },
  {
   "cell_type": "code",
   "execution_count": 44,
   "metadata": {
    "collapsed": false
   },
   "outputs": [
    {
     "name": "stdout",
     "output_type": "stream",
     "text": [
      "['apple', 'mango', 'carrot']\n"
     ]
    }
   ],
   "source": [
    "import pickle\n",
    "\n",
    "# 对象存储的文件名称\n",
    "shoplistfile = 'shoplist.data'\n",
    "\n",
    "shoplist = ['apple','mango','carrot']\n",
    "\n",
    "f = open(shoplistfile,'wb')\n",
    "# 存储对象到文件    这一过程为封装\n",
    "pickle.dump(shoplist,f)\n",
    "f.close()\n",
    "\n",
    "# 清除 shoplist 变量\n",
    "\n",
    "f = open(shoplistfile,'rb')\n",
    "# 从文件中载入对象\n",
    "storedlist = pickle.load(f)\n",
    "\n",
    "print(storedlist)\n",
    "\n"
   ]
  },
  {
   "cell_type": "markdown",
   "metadata": {},
   "source": [
    "### Unicode\n",
    "以 u 开头以表示 unicode 类型，如 u\"hello world\" ，在读取和写入时需要指定编码"
   ]
  },
  {
   "cell_type": "code",
   "execution_count": 46,
   "metadata": {
    "collapsed": false
   },
   "outputs": [
    {
     "name": "stdout",
     "output_type": "stream",
     "text": [
      "Imagine non-English language here\n"
     ]
    }
   ],
   "source": [
    "# encoding=utf-8\n",
    "import io\n",
    "f = io.open(\"abc.txt\", \"wt\", encoding=\"utf-8\")\n",
    "f.write(u\"Imagine non-English language here\")\n",
    "f.close()\n",
    "\n",
    "text = io.open(\"abc.txt\", encoding=\"utf-8\").read()\n",
    "print(text)"
   ]
  },
  {
   "cell_type": "markdown",
   "metadata": {},
   "source": [
    "## 异常\n",
    "\n",
    "程序运行会出现异常情况，接下来介绍如何处理异常。\n",
    "\n",
    "如下所示，print 拼写成为 Print ，python 会抛出 NameError 异常。"
   ]
  },
  {
   "cell_type": "code",
   "execution_count": 47,
   "metadata": {
    "collapsed": false
   },
   "outputs": [
    {
     "ename": "NameError",
     "evalue": "name 'Print' is not defined",
     "output_type": "error",
     "traceback": [
      "\u001b[0;31m---------------------------------------------------------------------------\u001b[0m",
      "\u001b[0;31mNameError\u001b[0m                                 Traceback (most recent call last)",
      "\u001b[0;32m<ipython-input-47-4a9fe39e6a16>\u001b[0m in \u001b[0;36m<module>\u001b[0;34m()\u001b[0m\n\u001b[0;32m----> 1\u001b[0;31m \u001b[0mPrint\u001b[0m\u001b[0;34m(\u001b[0m\u001b[0;34m\"Hello World\"\u001b[0m\u001b[0;34m)\u001b[0m\u001b[0;34m\u001b[0m\u001b[0m\n\u001b[0m",
      "\u001b[0;31mNameError\u001b[0m: name 'Print' is not defined"
     ]
    }
   ],
   "source": [
    "Print(\"Hello World\")"
   ]
  },
  {
   "cell_type": "markdown",
   "metadata": {},
   "source": [
    "### 处理异常\n",
    "\n",
    "使用 `try...except` 来处理异常，try 中放置可能出现异常的语句，except 中放置处理异常的语句。else 子句将在没有发生异常的时候执行"
   ]
  },
  {
   "cell_type": "code",
   "execution_count": null,
   "metadata": {
    "collapsed": true
   },
   "outputs": [],
   "source": [
    "try:\n",
    "    text = input(\"Enter somthing ...\")\n",
    "except EOFError:\n",
    "    print('Why did you do an EOF on me?')\n",
    "except KeyboardInterrupt:\n",
    "    print('You cancelled the operation.')\n",
    "else:\n",
    "    print('You entered {}'.format(text))"
   ]
  },
  {
   "cell_type": "markdown",
   "metadata": {},
   "source": [
    "### 抛出异常\n",
    "\n",
    "raise 语句来引发一次异常，具体方法是提供错误名或异常名以及要抛出（Thrown）异常的对象。\n",
    "\n",
    "能够引发的错误或异常必须是直接或间接从属于 Exception （异常） 类的派生类。"
   ]
  },
  {
   "cell_type": "code",
   "execution_count": 2,
   "metadata": {
    "collapsed": false
   },
   "outputs": [
    {
     "name": "stdout",
     "output_type": "stream",
     "text": [
      "Enter somethng ...12\n",
      "ShortInputException: The input was 2 long, expected at least 3\n"
     ]
    }
   ],
   "source": [
    "class ShortInputException(Exception):\n",
    "    def __init__(self, length, atleast):\n",
    "        Exception.__init__(self)\n",
    "        self.length = length\n",
    "        self.atleast = atleast\n",
    "        \n",
    "try:\n",
    "    text = input('Enter somethng ...')\n",
    "    if len(text) < 3:\n",
    "        raise ShortInputException(len(text),3)\n",
    "    # 运行其他任务\n",
    "    \n",
    "except EOFError:\n",
    "    print('Why did you do an EOF on me?')\n",
    "except ShortInputException as ex:\n",
    "    print(('ShortInputException: The input was ' +\n",
    "    '{0} long, expected at least {1}')\n",
    "    .format(ex.length, ex.atleast))\n",
    "else:\n",
    "    print('No exception was raised.')"
   ]
  },
  {
   "cell_type": "markdown",
   "metadata": {
    "collapsed": true
   },
   "source": [
    "### try...finally\n",
    "\n",
    "保证无论是否发生异常，语句都能执行。"
   ]
  },
  {
   "cell_type": "code",
   "execution_count": 4,
   "metadata": {
    "collapsed": false
   },
   "outputs": [
    {
     "name": "stdout",
     "output_type": "stream",
     "text": [
      "Programing is fun \n",
      "Press ctrl+c now\n",
      "when the work is done\n",
      "Press ctrl+c now\n",
      "if you wanna make your work also fun:\n",
      "Press ctrl+c now\n",
      "    use python!\n",
      "Press ctrl+c now\n",
      "(Cleaning up: Closed the file)\n"
     ]
    }
   ],
   "source": [
    "import sys\n",
    "import time\n",
    "f = None\n",
    "try:\n",
    "    f = open(\"poem.txt\")\n",
    "    # 我们常用的文件阅读风格\n",
    "    while True:\n",
    "        line = f.readline()\n",
    "        if len(line) == 0:\n",
    "            break\n",
    "        print(line, end='')\n",
    "        sys.stdout.flush()\n",
    "        print(\"Press ctrl+c now\")\n",
    "        # 为了确保它能运行一段时间\n",
    "        time.sleep(2)\n",
    "except IOError:\n",
    "    print(\"Could not find file poem.txt\")\n",
    "except KeyboardInterrupt:\n",
    "    print(\"!! You cancelled the reading from the file.\")\n",
    "finally:\n",
    "    if f:\n",
    "        f.close()\n",
    "    print(\"(Cleaning up: Closed the file)\")"
   ]
  },
  {
   "cell_type": "markdown",
   "metadata": {},
   "source": [
    "### with 语句\n",
    "\n",
    "更加简洁得处理异常。\n",
    "\n",
    "程序输出的内容应与上一个案例所呈现的相同。本例的不同之处在于我们使用的是 open 函数与 with 语句——**我们将关闭文件的操作交由 with open 来自动完成**。\n",
    "\n",
    "在幕后发生的事情是有一项 with 语句所使用的协议（Protocol）。它会获取由 open 语句返回的对象，在本案例中就是“thefile”。\n",
    "它总会在代码块开始之前调用 thefile.__enter__ 函数，并且总会在代码块执行完毕之后调用 thefile.__exit__ 。因此，我们在 finally 代码块中编写的代码应该格外留心 __exit__ 方法的自动操作。这能够帮助我们避免重复显式使用 try..finally 语句。"
   ]
  },
  {
   "cell_type": "code",
   "execution_count": 5,
   "metadata": {
    "collapsed": false
   },
   "outputs": [
    {
     "name": "stdout",
     "output_type": "stream",
     "text": [
      "Programing is fun \n",
      "when the work is done\n",
      "if you wanna make your work also fun:\n",
      "    use python!\n"
     ]
    }
   ],
   "source": [
    "with open(\"poem.txt\") as f:\n",
    "    for line in f:\n",
    "        print(line, end='')"
   ]
  },
  {
   "cell_type": "markdown",
   "metadata": {},
   "source": [
    "## 标准库\n"
   ]
  },
  {
   "cell_type": "markdown",
   "metadata": {},
   "source": [
    "Python 标准库（Python Standrad Library）中包含了大量有用的模块。"
   ]
  },
  {
   "cell_type": "markdown",
   "metadata": {},
   "source": [
    "### sys 模块\n",
    "\n",
    "包括一些特定的系统功能。如 sys.argv 中包括了命令行参数。"
   ]
  },
  {
   "cell_type": "code",
   "execution_count": 8,
   "metadata": {
    "collapsed": false
   },
   "outputs": [
    {
     "data": {
      "text/plain": [
       "sys.version_info(major=3, minor=6, micro=2, releaselevel='final', serial=0)"
      ]
     },
     "execution_count": 8,
     "metadata": {},
     "output_type": "execute_result"
    }
   ],
   "source": [
    "import sys\n",
    "# 要检查正在使用的 Python 软件的版本\n",
    "sys.version_info"
   ]
  },
  {
   "cell_type": "markdown",
   "metadata": {},
   "source": [
    "### 日志模块\n",
    "\n",
    "logging\n",
    "\n",
    "- os 模块用以和操作系统交互\n",
    "- platform 模块用以获取平台操作系统的信息\n",
    "- logging 模块用来记录（Log）信息"
   ]
  },
  {
   "cell_type": "code",
   "execution_count": 11,
   "metadata": {
    "collapsed": false
   },
   "outputs": [
    {
     "name": "stdout",
     "output_type": "stream",
     "text": [
      "Logging to C:\\Users\\Skye\\test.log\n"
     ]
    }
   ],
   "source": [
    "import os\n",
    "import platform\n",
    "import logging\n",
    "\n",
    "if platform.platform().startswith('windows'):\n",
    "    logging_file = os.path.join(os.getenv('HOMEDRIVE'),os.getenv('HOMEPATH'),'test.log')\n",
    "    \n",
    "else:\n",
    "    logging_file = os.path.join(os.getenv('HOME'),'test.log')\n",
    "    \n",
    "print(\"Logging to\", logging_file)\n",
    "\n",
    "logging.basicConfig(\n",
    "    level = logging.DEBUG,\n",
    "    format='%(asctime)s : %(levelname)s : %(message)s',\n",
    "    filename=logging_file,\n",
    "    filemode='w',\n",
    ")\n",
    "\n",
    "logging.debug(\"Start of the program\")\n",
    "logging.info(\"Doing something\")\n",
    "logging.warning(\"Dying now\")"
   ]
  },
  {
   "cell_type": "markdown",
   "metadata": {},
   "source": [
    "### 时间和日期\n",
    "\n",
    "datetime\n"
   ]
  },
  {
   "cell_type": "code",
   "execution_count": 43,
   "metadata": {
    "ExecuteTime": {
     "end_time": "2019-02-16T08:25:51.934054Z",
     "start_time": "2019-02-16T08:25:51.928070Z"
    },
    "collapsed": false
   },
   "outputs": [
    {
     "name": "stdout",
     "output_type": "stream",
     "text": [
      "9211\n"
     ]
    }
   ],
   "source": [
    "from datetime import date\n",
    "now = date.today()\n",
    "birthday = date(1993,11,28)\n",
    "age = now - birthday\n",
    "print(age.days)"
   ]
  },
  {
   "cell_type": "markdown",
   "metadata": {},
   "source": [
    "**其他资料**\n",
    "\n",
    "- 每周模块：https://pymotw.com/3/\n",
    "- 官方文档：https://docs.python.org/3/library/"
   ]
  },
  {
   "cell_type": "markdown",
   "metadata": {},
   "source": [
    "## 更多\n",
    "\n",
    "### 特殊方法\n",
    "\n",
    "- __init__(self, ...)\n",
    "\n",
    "    这一方法在新创建的对象被返回准备使用时被调用。\n",
    "\n",
    "\n",
    "- __del__(self)\n",
    "\n",
    "     这一方法在对象被删除之前调用（它的使用时机不可预测，所以避免使用它）\n",
    "     \n",
    "\n",
    "- __str__(self)\n",
    "\n",
    "    当我们使用 print 函数时，或 str() 被使用时就会被调用。\n",
    "    \n",
    "\n",
    "- __lt__(self, other)\n",
    "\n",
    "    当小于运算符（<）被使用时被调用。类似地，使用其它所有运算符（+、> 等等）时都会有特殊方法被调用。\n",
    "    \n",
    "\n",
    "- __getitem__(self, key)\n",
    "\n",
    "    使用 x[key] 索引操作时会被调用。\n",
    "    \n",
    "\n",
    "- __len__(self)\n",
    "\n",
    "    当针对序列对象使用内置 len() 函数时会被调用"
   ]
  },
  {
   "cell_type": "markdown",
   "metadata": {},
   "source": [
    "### lambda"
   ]
  },
  {
   "cell_type": "code",
   "execution_count": 12,
   "metadata": {
    "collapsed": false
   },
   "outputs": [
    {
     "name": "stdout",
     "output_type": "stream",
     "text": [
      "[{'x': 4, 'y': 1}, {'x': 2, 'y': 3}]\n"
     ]
    }
   ],
   "source": [
    "points = [{'x': 2, 'y': 3},{'x': 4, 'y': 1}]\n",
    "points.sort(key=lambda i: i['y'])\n",
    "print(points)"
   ]
  },
  {
   "cell_type": "markdown",
   "metadata": {},
   "source": [
    "### 列表推导式\n",
    "列表推导式为从序列中创建列表提供了一个简单的方法。"
   ]
  },
  {
   "cell_type": "code",
   "execution_count": 1,
   "metadata": {
    "ExecuteTime": {
     "end_time": "2019-02-15T13:09:33.388710Z",
     "start_time": "2019-02-15T13:09:33.306915Z"
    },
    "collapsed": false
   },
   "outputs": [
    {
     "name": "stdout",
     "output_type": "stream",
     "text": [
      "[6, 8]\n"
     ]
    }
   ],
   "source": [
    "listone = [2,3,4]\n",
    "listtwo = [2*i for i in listone if i > 2]\n",
    "print(listtwo)"
   ]
  },
  {
   "cell_type": "markdown",
   "metadata": {},
   "source": [
    "列表推导式由包含一个表达式的括号组成，表达式后面跟随一个 for 子句，之后可以有零或多个 for 或 if 子句。结果是一个列表，由表达式依据其后面的 for 和 if 子句上下文计算而来的结果构成。"
   ]
  },
  {
   "cell_type": "code",
   "execution_count": 2,
   "metadata": {
    "ExecuteTime": {
     "end_time": "2019-02-15T13:10:17.178762Z",
     "start_time": "2019-02-15T13:10:17.165793Z"
    },
    "collapsed": false
   },
   "outputs": [
    {
     "data": {
      "text/plain": [
       "[(1, 3), (1, 4), (2, 3), (2, 1), (2, 4), (3, 1), (3, 4)]"
      ]
     },
     "execution_count": 2,
     "metadata": {},
     "output_type": "execute_result"
    }
   ],
   "source": [
    "[(x, y) for x in [1,2,3] for y in [3,1,4] if x != y]"
   ]
  },
  {
   "cell_type": "code",
   "execution_count": 4,
   "metadata": {
    "ExecuteTime": {
     "end_time": "2019-02-15T13:12:01.604698Z",
     "start_time": "2019-02-15T13:12:01.598700Z"
    },
    "collapsed": false
   },
   "outputs": [
    {
     "name": "stdout",
     "output_type": "stream",
     "text": [
      "[(1, 3), (1, 4), (2, 3), (2, 1), (2, 4), (3, 1), (3, 4)]\n"
     ]
    }
   ],
   "source": [
    "# 上面的表达式等同于\n",
    "combs = []\n",
    "for x in [1,2,3]:\n",
    "    for y in [3,1,4]:\n",
    "        if x != y:\n",
    "            combs.append((x, y))\n",
    "print(combs)"
   ]
  },
  {
   "cell_type": "markdown",
   "metadata": {},
   "source": [
    "- 嵌套的列表推导式\n",
    "列表解析中的第一个表达式可以是任何表达式，包括列表解析。"
   ]
  },
  {
   "cell_type": "code",
   "execution_count": 12,
   "metadata": {
    "ExecuteTime": {
     "end_time": "2019-02-15T13:18:31.740096Z",
     "start_time": "2019-02-15T13:18:31.727116Z"
    },
    "collapsed": false
   },
   "outputs": [
    {
     "name": "stdout",
     "output_type": "stream",
     "text": [
      "[[1, 5, 9], [2, 6, 10], [3, 7, 11], [4, 8, 12]]\n",
      "[[1, 5, 9], [2, 6, 10], [3, 7, 11], [4, 8, 12]]\n",
      "[(1, 5, 9), (2, 6, 10), (3, 7, 11), (4, 8, 12)]\n"
     ]
    }
   ],
   "source": [
    "matrix = [[1, 2, 3, 4],[5, 6, 7, 8],[9, 10, 11, 12],]\n",
    "list1 = [[row[i] for row in matrix] for i in range(4)]\n",
    "\n",
    "list2 = []\n",
    "for i in range(4):\n",
    "    list2.append([row[i] for row in matrix])\n",
    "    \n",
    "list3 = list(zip(*matrix))\n",
    "\n",
    "print(list1)\n",
    "print(list2)\n",
    "print(list3)"
   ]
  },
  {
   "cell_type": "markdown",
   "metadata": {},
   "source": [
    "### 生成器\n",
    "通过列表生成式，我们可以直接创建一个列表。但是，受到内存限制，列表容量肯定是有限的。我们可以不必创建完整的 list，而用不断循环的方式推算出后面的元素。在Python中，这种一边循环一边计算的机制，称为生成器：generator。\n",
    "\n",
    "要创建一个generator，有很多种方法。第一种方法很简单，只要把一个列表生成式的[]改成()，就创建了一个generator："
   ]
  },
  {
   "cell_type": "code",
   "execution_count": 21,
   "metadata": {
    "ExecuteTime": {
     "end_time": "2019-02-16T03:12:19.857616Z",
     "start_time": "2019-02-16T03:12:19.850647Z"
    },
    "collapsed": false
   },
   "outputs": [
    {
     "name": "stdout",
     "output_type": "stream",
     "text": [
      "[0, 1, 4, 9]\n",
      "<generator object <genexpr> at 0x000002ABB916F888>\n"
     ]
    }
   ],
   "source": [
    "L = [x * x for x in range(4)]\n",
    "\n",
    "g = (x * x for x in range(4))\n",
    "\n",
    "print(L)\n",
    "print(g)"
   ]
  },
  {
   "cell_type": "code",
   "execution_count": 22,
   "metadata": {
    "ExecuteTime": {
     "end_time": "2019-02-16T03:12:20.432108Z",
     "start_time": "2019-02-16T03:12:20.426097Z"
    },
    "collapsed": false
   },
   "outputs": [
    {
     "name": "stdout",
     "output_type": "stream",
     "text": [
      "0\n",
      "1\n",
      "4\n",
      "9\n"
     ]
    }
   ],
   "source": [
    "print(next(g))\n",
    "print(next(g))\n",
    "print(next(g))\n",
    "print(next(g))"
   ]
  },
  {
   "cell_type": "code",
   "execution_count": 24,
   "metadata": {
    "ExecuteTime": {
     "end_time": "2019-02-16T03:13:10.720638Z",
     "start_time": "2019-02-16T03:13:10.714634Z"
    },
    "collapsed": false,
    "scrolled": true
   },
   "outputs": [
    {
     "name": "stdout",
     "output_type": "stream",
     "text": [
      "0\n",
      "1\n",
      "4\n",
      "9\n"
     ]
    }
   ],
   "source": [
    "g = (x * x for x in range(4))\n",
    "for n in g:\n",
    "    print(n)"
   ]
  },
  {
   "cell_type": "markdown",
   "metadata": {
    "ExecuteTime": {
     "end_time": "2019-02-16T03:14:03.807659Z",
     "start_time": "2019-02-16T03:14:03.787713Z"
    }
   },
   "source": [
    "- 使用 `yield` 关键字创建生成器\n",
    "\n",
    "以斐波那契数列为例"
   ]
  },
  {
   "cell_type": "code",
   "execution_count": 26,
   "metadata": {
    "ExecuteTime": {
     "end_time": "2019-02-16T03:16:06.867629Z",
     "start_time": "2019-02-16T03:16:06.860621Z"
    },
    "collapsed": true
   },
   "outputs": [],
   "source": [
    "def fib(max):\n",
    "    n, a, b = 0,0,1\n",
    "    while n < max:\n",
    "        yield b\n",
    "        a,b = b,a + b\n",
    "        n = n + 1\n",
    "    return 'done'\n",
    "f = fib(6)"
   ]
  },
  {
   "cell_type": "code",
   "execution_count": 27,
   "metadata": {
    "ExecuteTime": {
     "end_time": "2019-02-16T03:16:13.481942Z",
     "start_time": "2019-02-16T03:16:13.467976Z"
    },
    "collapsed": false
   },
   "outputs": [
    {
     "data": {
      "text/plain": [
       "<generator object fib at 0x000002ABB9213200>"
      ]
     },
     "execution_count": 27,
     "metadata": {},
     "output_type": "execute_result"
    }
   ],
   "source": [
    "f"
   ]
  },
  {
   "cell_type": "code",
   "execution_count": 28,
   "metadata": {
    "ExecuteTime": {
     "end_time": "2019-02-16T03:16:39.952149Z",
     "start_time": "2019-02-16T03:16:39.947164Z"
    },
    "collapsed": false
   },
   "outputs": [
    {
     "name": "stdout",
     "output_type": "stream",
     "text": [
      "1\n",
      "1\n",
      "2\n",
      "3\n",
      "5\n",
      "8\n"
     ]
    }
   ],
   "source": [
    "for i in f:\n",
    "    print(i)"
   ]
  },
  {
   "cell_type": "markdown",
   "metadata": {},
   "source": [
    "### assert 语句\n",
    "assert 语句用以断言（Assert）某事是真的。例如说你非常确定你正在使用的列表中至少包含一个元素，并想确认这一点，如果其不是真的，就抛出一个错误， assert 语句就是这种情况下的理想选择。当语句断言失败时，将会抛出 AssertionError 。"
   ]
  },
  {
   "cell_type": "code",
   "execution_count": 13,
   "metadata": {
    "ExecuteTime": {
     "end_time": "2019-02-15T13:18:34.210284Z",
     "start_time": "2019-02-15T13:18:34.205287Z"
    },
    "collapsed": false
   },
   "outputs": [
    {
     "data": {
      "text/plain": [
       "'item'"
      ]
     },
     "execution_count": 13,
     "metadata": {},
     "output_type": "execute_result"
    }
   ],
   "source": [
    "mylist = ['item']\n",
    "assert len(mylist) >= 1\n",
    "mylist.pop()"
   ]
  },
  {
   "cell_type": "code",
   "execution_count": 16,
   "metadata": {
    "collapsed": false
   },
   "outputs": [
    {
     "ename": "AssertionError",
     "evalue": "",
     "output_type": "error",
     "traceback": [
      "\u001b[1;31m---------------------------------------------------------------------------\u001b[0m",
      "\u001b[1;31mAssertionError\u001b[0m                            Traceback (most recent call last)",
      "\u001b[1;32m<ipython-input-16-0061aada0cbf>\u001b[0m in \u001b[0;36m<module>\u001b[1;34m()\u001b[0m\n\u001b[1;32m----> 1\u001b[1;33m \u001b[1;32massert\u001b[0m \u001b[0mlen\u001b[0m\u001b[1;33m(\u001b[0m\u001b[0mmylist\u001b[0m\u001b[1;33m)\u001b[0m \u001b[1;33m>=\u001b[0m \u001b[1;36m1\u001b[0m\u001b[1;33m\u001b[0m\u001b[0m\n\u001b[0m",
      "\u001b[1;31mAssertionError\u001b[0m: "
     ]
    }
   ],
   "source": [
    "assert len(mylist) >= 1"
   ]
  },
  {
   "cell_type": "markdown",
   "metadata": {},
   "source": [
    "### 装饰器\n",
    "\n",
    "装饰器（Decorators）是应用包装函数的快捷方式。这有助于将某一功能与一些代码一遍又一 遍地“包装”。举个例子，我为自己创建了一个 retry 装饰器，这样我可以将其运用到任何函 数之中，如果在一次运行中抛出了任何错误，它就会尝试重新运行，直到最大次数 5 次，并 且每次运行期间都会有一定的延迟。这对于你在对一台远程计算机进行网络调用的情况十分 有用：\n",
    "\n",
    "请参阅：\n",
    "- http://www.ibm.com/developerworks/linux/library/l-cpdecor.html\n",
    "- http://toumorokoshi.github.io/dry-principles-through-python-decorators.html"
   ]
  },
  {
   "cell_type": "code",
   "execution_count": 44,
   "metadata": {
    "ExecuteTime": {
     "end_time": "2019-02-16T08:33:52.792437Z",
     "start_time": "2019-02-16T08:33:42.763741Z"
    },
    "collapsed": false,
    "scrolled": true
   },
   "outputs": [
    {
     "name": "stderr",
     "output_type": "stream",
     "text": [
      "ERROR:retry:Attempt 1/5 failed : (('Some bad value',), {})\n",
      "Traceback (most recent call last):\n",
      "  File \"<ipython-input-44-eab65850e551>\", line 13, in wrapped_f\n",
      "    return f(*args, **kwargs)\n",
      "  File \"<ipython-input-44-eab65850e551>\", line 36, in save_to_database\n",
      "    raise ValueError(arg)\n",
      "ValueError: Some bad value\n"
     ]
    },
    {
     "name": "stdout",
     "output_type": "stream",
     "text": [
      "Write to a database or make a network call or etc.\n",
      "This will be automatically retried if exception is thrown.\n",
      "Write to a database or make a network call or etc.\n",
      "This will be automatically retried if exception is thrown.\n"
     ]
    }
   ],
   "source": [
    "from time import sleep\n",
    "from functools import wraps\n",
    "import logging\n",
    "logging.basicConfig()\n",
    "log = logging.getLogger(\"retry\")\n",
    "\n",
    "def retry(f):\n",
    "    @wraps(f)\n",
    "    def wrapped_f(*args, **kwargs):\n",
    "        MAX_ATTEMPTS = 5\n",
    "        for attempt in range(1, MAX_ATTEMPTS + 1):\n",
    "            try:\n",
    "                return f(*args, **kwargs)\n",
    "            except:\n",
    "                log.exception(\"Attempt %s/%s failed : %s\",\n",
    "                attempt,\n",
    "                MAX_ATTEMPTS,\n",
    "                (args, kwargs))\n",
    "                sleep(10 * attempt)\n",
    "        log.critical(\"All %s attempts failed : %s\",\n",
    "                MAX_ATTEMPTS,\n",
    "                (args, kwargs))\n",
    "    return wrapped_f \n",
    "\n",
    "counter = 0\n",
    "\n",
    "@retry\n",
    "def save_to_database(arg):\n",
    "    print(\"Write to a database or make a network call or etc.\")\n",
    "    print(\"This will be automatically retried if exception is thrown.\")\n",
    "    global counter\n",
    "    counter += 1\n",
    "    # 这将在第一次调用时抛出异常\n",
    "    # 在第二次运行时将正常工作（也就是重试）\n",
    "    if counter < 2:\n",
    "        raise ValueError(arg)\n",
    "if __name__ == '__main__':\n",
    "    save_to_database(\"Some bad value\")"
   ]
  },
  {
   "cell_type": "markdown",
   "metadata": {},
   "source": [
    "### 高阶函数\n",
    "- map(function, iterable, ...),对指定序列进行映射,返回迭代器"
   ]
  },
  {
   "cell_type": "code",
   "execution_count": 47,
   "metadata": {
    "ExecuteTime": {
     "end_time": "2019-02-16T08:37:27.887753Z",
     "start_time": "2019-02-16T08:37:27.879774Z"
    },
    "collapsed": false
   },
   "outputs": [
    {
     "name": "stdout",
     "output_type": "stream",
     "text": [
      "[1, 4, 9, 16]\n",
      "[1, 4, 9, 16]\n"
     ]
    }
   ],
   "source": [
    "def f(x):\n",
    "    return x * x\n",
    "r = map(f,[1,2,3,4])\n",
    "r2 = map(lambda x : x*x,[1,2,3,4])\n",
    "\n",
    "print(list(r))\n",
    "print(list(r2))"
   ]
  },
  {
   "cell_type": "markdown",
   "metadata": {},
   "source": [
    "- reduce(function, iterable[, initializer]) 对参数序列中的元素进行累积\n"
   ]
  },
  {
   "cell_type": "code",
   "execution_count": 50,
   "metadata": {
    "ExecuteTime": {
     "end_time": "2019-02-16T08:39:50.446431Z",
     "start_time": "2019-02-16T08:39:50.440444Z"
    },
    "collapsed": false
   },
   "outputs": [
    {
     "name": "stdout",
     "output_type": "stream",
     "text": [
      "10\n"
     ]
    }
   ],
   "source": [
    "from functools import reduce\n",
    "def add(x, y):\n",
    "    return x + y\n",
    "\n",
    "n = reduce(add,[1,2,3,4])\n",
    "print(n)"
   ]
  },
  {
   "cell_type": "markdown",
   "metadata": {},
   "source": [
    "- filter(function, iterable) 过滤序列"
   ]
  },
  {
   "cell_type": "code",
   "execution_count": 53,
   "metadata": {
    "ExecuteTime": {
     "end_time": "2019-02-16T08:41:58.655230Z",
     "start_time": "2019-02-16T08:41:58.649246Z"
    },
    "collapsed": false
   },
   "outputs": [
    {
     "name": "stdout",
     "output_type": "stream",
     "text": [
      "[1, 3, 5]\n"
     ]
    }
   ],
   "source": [
    "def is_odd(n):\n",
    "    return n % 2 == 1\n",
    "\n",
    "newlist = filter(is_odd,[1,2,3,4,5,6])\n",
    "print(list(newlist))"
   ]
  },
  {
   "cell_type": "markdown",
   "metadata": {},
   "source": [
    "### 练习\n",
    "\n",
    "编写一款你自己的命令行地址簿程序，你可以用它浏览、添加、编辑、删除或搜索你的联系人，例如你的朋友、家人、同事，还有他们诸如邮件地址、电话号码等多种信息。这些详细信息必须被妥善储存以备稍后的检索。\n",
    "\n",
    "参考项目中 `AddressPractice.py` 代码"
   ]
  },
  {
   "cell_type": "code",
   "execution_count": null,
   "metadata": {
    "collapsed": true
   },
   "outputs": [],
   "source": [
    "# -*- coding: utf-8 -*-\n",
    "\n",
    "# @Author  : Skye\n",
    "# @Time    : 2019/2/19 13:11\n",
    "# @desc    : 简明 python 教程最后的练习题。\n",
    "\n",
    "import pickle\n",
    "import os\n",
    "\"\"\"\n",
    "编写一款你自己的命令行地址簿程序，你可以用它浏览、添加、编辑、删除或搜索你的\n",
    "联系人，例如你的朋友、家人、同事，还有他们诸如邮件地址、电话号码等多种信息。\n",
    "这些详细信息必须被妥善储存以备稍后的检索。\n",
    "\"\"\"\n",
    "\n",
    "\n",
    "class Person:\n",
    "    def __init__(self,name,email,phone,relationship):\n",
    "        self.name = name\n",
    "        self.email = email\n",
    "        self.phone = phone\n",
    "        self.relationship = relationship\n",
    "\n",
    "filename = 'address'\n",
    "\n",
    "address = dict()\n",
    "\n",
    "if os.path.exists(filename) :\n",
    "    f = open(filename, 'rb')\n",
    "    try:\n",
    "        address = pickle.load(f)\n",
    "    except EOFError:\n",
    "        print(\"Address is empty\")\n",
    "    f.close()\n",
    "else:\n",
    "    f = open(filename, 'wb')\n",
    "    f.close()\n",
    "\n",
    "while True:\n",
    "    choose = int(input(\"\"\"Please choose a number: \\n \\\n",
    "1. 查看所有人\\n 2. 按姓名查找\\n 3. 添加联系人\\n 4. 删除联系人\\n 5. 退出\\n\"\"\"))\n",
    "\n",
    "    if choose == 5:\n",
    "        break\n",
    "    elif choose == 1:\n",
    "        for name,p in address.items():\n",
    "            print('{} {} {} {}'.format(name,p.email,p.phone,p.relationship))\n",
    "    elif choose == 2:\n",
    "        name = input('Please input name:')\n",
    "        while not name in address:\n",
    "            name = input('There\\'s no person named {}.Please input right name.'.format(name))\n",
    "        p = address.get(name)\n",
    "        print('{} {} {} {}'.format(name, p.email, p.phone, p.relationship))\n",
    "    elif choose == 3:\n",
    "        name = input('Please input name:')\n",
    "        email = input('Please input email:')\n",
    "        phone = input('Please input phone:')\n",
    "        relationship = input('Please input relationship:')\n",
    "        p = Person(name,email,phone,relationship)\n",
    "        address[name] = p\n",
    "        f = open(filename, 'wb')\n",
    "        pickle.dump(address,f)\n",
    "        f.close()\n",
    "        print('Save successfully.')\n",
    "    elif choose == 4:\n",
    "        name = input('Please input name:')\n",
    "        while not name in address:\n",
    "            name = input('There\\'s no person named {}.Please input right name.'.format(name))\n",
    "        address.pop(name)\n",
    "        f = open(filename, 'wb')\n",
    "        pickle.dump(address,f)\n",
    "        f.close()\n",
    "        print('Delete successfully.')"
   ]
  }
 ],
 "metadata": {
  "anaconda-cloud": {},
  "kernelspec": {
   "display_name": "Python 3",
   "language": "python",
   "name": "python3"
  },
  "language_info": {
   "codemirror_mode": {
    "name": "ipython",
    "version": 3
   },
   "file_extension": ".py",
   "mimetype": "text/x-python",
   "name": "python",
   "nbconvert_exporter": "python",
   "pygments_lexer": "ipython3",
   "version": "3.5.3"
  },
  "toc": {
   "base_numbering": 1,
   "nav_menu": {},
   "number_sections": true,
   "sideBar": true,
   "skip_h1_title": true,
   "title_cell": "Table of Contents",
   "title_sidebar": "Contents",
   "toc_cell": true,
   "toc_position": {
    "height": "calc(100% - 180px)",
    "left": "10px",
    "top": "150px",
    "width": "320px"
   },
   "toc_section_display": true,
   "toc_window_display": true
  }
 },
 "nbformat": 4,
 "nbformat_minor": 1
}
