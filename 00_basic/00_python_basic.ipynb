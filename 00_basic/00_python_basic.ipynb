{
 "cells": [
  {
   "cell_type": "markdown",
   "metadata": {
    "toc": true
   },
   "source": [
    "<h1>Table of Contents<span class=\"tocSkip\"></span></h1>\n",
    "<div class=\"toc\"><ul class=\"toc-item\"><li><span><a href=\"#数据类型\" data-toc-modified-id=\"数据类型-1\"><span class=\"toc-item-num\">1&nbsp;&nbsp;</span>数据类型</a></span><ul class=\"toc-item\"><li><span><a href=\"#字面常量-Literal-Constants\" data-toc-modified-id=\"字面常量-Literal-Constants-1.1\"><span class=\"toc-item-num\">1.1&nbsp;&nbsp;</span>字面常量 Literal Constants</a></span><ul class=\"toc-item\"><li><span><a href=\"#数字\" data-toc-modified-id=\"数字-1.1.1\"><span class=\"toc-item-num\">1.1.1&nbsp;&nbsp;</span>数字</a></span></li><li><span><a href=\"#字符串\" data-toc-modified-id=\"字符串-1.1.2\"><span class=\"toc-item-num\">1.1.2&nbsp;&nbsp;</span>字符串</a></span></li></ul></li><li><span><a href=\"#变量\" data-toc-modified-id=\"变量-1.2\"><span class=\"toc-item-num\">1.2&nbsp;&nbsp;</span>变量</a></span></li></ul></li><li><span><a href=\"#运算符与表达式\" data-toc-modified-id=\"运算符与表达式-2\"><span class=\"toc-item-num\">2&nbsp;&nbsp;</span>运算符与表达式</a></span><ul class=\"toc-item\"><li><span><a href=\"#运算符\" data-toc-modified-id=\"运算符-2.1\"><span class=\"toc-item-num\">2.1&nbsp;&nbsp;</span>运算符</a></span></li><li><span><a href=\"#表达式\" data-toc-modified-id=\"表达式-2.2\"><span class=\"toc-item-num\">2.2&nbsp;&nbsp;</span>表达式</a></span></li></ul></li><li><span><a href=\"#控制流\" data-toc-modified-id=\"控制流-3\"><span class=\"toc-item-num\">3&nbsp;&nbsp;</span>控制流</a></span><ul class=\"toc-item\"><li><span><a href=\"#if-语句\" data-toc-modified-id=\"if-语句-3.1\"><span class=\"toc-item-num\">3.1&nbsp;&nbsp;</span>if 语句</a></span></li><li><span><a href=\"#while-语句\" data-toc-modified-id=\"while-语句-3.2\"><span class=\"toc-item-num\">3.2&nbsp;&nbsp;</span>while 语句</a></span></li><li><span><a href=\"#for-循环\" data-toc-modified-id=\"for-循环-3.3\"><span class=\"toc-item-num\">3.3&nbsp;&nbsp;</span>for 循环</a></span></li><li><span><a href=\"#break-语句\" data-toc-modified-id=\"break-语句-3.4\"><span class=\"toc-item-num\">3.4&nbsp;&nbsp;</span>break 语句</a></span></li><li><span><a href=\"#continue-语句\" data-toc-modified-id=\"continue-语句-3.5\"><span class=\"toc-item-num\">3.5&nbsp;&nbsp;</span>continue 语句</a></span></li></ul></li><li><span><a href=\"#函数\" data-toc-modified-id=\"函数-4\"><span class=\"toc-item-num\">4&nbsp;&nbsp;</span>函数</a></span></li></ul></div>"
   ]
  },
  {
   "cell_type": "markdown",
   "metadata": {},
   "source": [
    "# Python 语言基础"
   ]
  },
  {
   "cell_type": "markdown",
   "metadata": {},
   "source": [
    "## 数据类型"
   ]
  },
  {
   "cell_type": "markdown",
   "metadata": {},
   "source": [
    "### 字面常量 Literal Constants\n",
    "表示比如数字 5，1.23 或者 字符串 'This is a string'  等字面上的常量\n",
    "\n",
    "#### 数字\n",
    "数字包括整数与浮点数，注意没有单独的 long 类型，int 类型可以表示任何大小的整数\n",
    "#### 字符串\n",
    "- 单引号与双引号工作机制相同。三引号 `\"\"\"` 或者 `'''` 表示多行字符串\n",
    "- 字符串不可变，python 中没有 char 类型"
   ]
  },
  {
   "cell_type": "markdown",
   "metadata": {},
   "source": [
    "- **字符串格式化 format()**"
   ]
  },
  {
   "cell_type": "code",
   "execution_count": 5,
   "metadata": {
    "collapsed": false,
    "scrolled": true
   },
   "outputs": [
    {
     "name": "stdout",
     "output_type": "stream",
     "text": [
      "Swaroop was 20 yeas old when he wrote this book\n",
      "Why is Swaroop playing with that python?\n"
     ]
    }
   ],
   "source": [
    "age = 20\n",
    "name = 'Swaroop'\n",
    "print('{0} was {1} yeas old when he wrote this book'.format(name,age))\n",
    "print('Why is {0} playing with that python?'.format(name))"
   ]
  },
  {
   "cell_type": "markdown",
   "metadata": {},
   "source": [
    "上述写法比较推荐，其避免了 `name + 'is' +str(age) + 'years old'` 这样的写法形式，format 函数会转换类型。\n",
    "也可以像下面这样写"
   ]
  },
  {
   "cell_type": "code",
   "execution_count": 11,
   "metadata": {
    "collapsed": false
   },
   "outputs": [
    {
     "name": "stdout",
     "output_type": "stream",
     "text": [
      "Swaroop was 20 years old when he wrote this book\n",
      "Why is Swaroop playing with that python?\n"
     ]
    }
   ],
   "source": [
    "age = 20\n",
    "name = 'Swaroop'\n",
    "print('{} was {} years old when he wrote this book'.format(name, age))\n",
    "print('Why is {} playing with that python?'.format(name))"
   ]
  },
  {
   "cell_type": "code",
   "execution_count": 12,
   "metadata": {
    "collapsed": false,
    "scrolled": true
   },
   "outputs": [
    {
     "name": "stdout",
     "output_type": "stream",
     "text": [
      "0.333\n",
      "___hello___\n",
      "Swaroop wrote A Byte of Python\n"
     ]
    }
   ],
   "source": [
    "# 对于浮点数 '0.333' 保留小数点(.)后三位\n",
    "print('{0:.3f}'.format(1.0/3))\n",
    "# 使用下划线填充文本，并保持文字处于中间位置\n",
    "# 使用 (^) 定义 '___hello___'字符串长度为 11\n",
    "print('{0:_^11}'.format('hello'))\n",
    "# 基于关键词输出 'Swaroop wrote A Byte of Python'\n",
    "print('{name} wrote {book}'.format(name='Swaroop', book='A Byte of Python'))"
   ]
  },
  {
   "cell_type": "markdown",
   "metadata": {},
   "source": [
    "print 不换行"
   ]
  },
  {
   "cell_type": "code",
   "execution_count": 14,
   "metadata": {
    "collapsed": false
   },
   "outputs": [
    {
     "name": "stdout",
     "output_type": "stream",
     "text": [
      "a b c\n"
     ]
    }
   ],
   "source": [
    "print('a',end=' ')\n",
    "print('b',end=' ')\n",
    "print('c')"
   ]
  },
  {
   "cell_type": "markdown",
   "metadata": {},
   "source": [
    "不转义的字符串，在前面加 r"
   ]
  },
  {
   "cell_type": "code",
   "execution_count": 20,
   "metadata": {
    "collapsed": false
   },
   "outputs": [
    {
     "name": "stdout",
     "output_type": "stream",
     "text": [
      "Newlines are indicated by \\n\n"
     ]
    }
   ],
   "source": [
    "print(r\"Newlines are indicated by \\n\")"
   ]
  },
  {
   "cell_type": "markdown",
   "metadata": {},
   "source": [
    "### 变量\n",
    "- 标识符命名规则\n",
    "- 数据类型：字符串、数字、类（Class）\n",
    "- 对象：Python 中任何内容都是对象（Object），虽然不需要指定类型，但是它是强类型语言"
   ]
  },
  {
   "cell_type": "code",
   "execution_count": 21,
   "metadata": {
    "collapsed": false
   },
   "outputs": [
    {
     "name": "stdout",
     "output_type": "stream",
     "text": [
      "5\n",
      "6\n",
      "This is a muti-line string.\n",
      "This is the second line.\n"
     ]
    }
   ],
   "source": [
    "# 将字面常量 5 赋值给 变量 i\n",
    "i = 5\n",
    "print(i)\n",
    "i = i + 1\n",
    "print(i)\n",
    "\n",
    "s = '''This is a muti-line string.\n",
    "This is the second line.'''\n",
    "print(s)"
   ]
  },
  {
   "cell_type": "markdown",
   "metadata": {},
   "source": [
    "- 反斜杠拆分行"
   ]
  },
  {
   "cell_type": "code",
   "execution_count": 24,
   "metadata": {
    "collapsed": false
   },
   "outputs": [
    {
     "name": "stdout",
     "output_type": "stream",
     "text": [
      "This is a string. This continues the string.\n",
      "5\n",
      "5\n"
     ]
    }
   ],
   "source": [
    "s = 'This is a string. \\\n",
    "This continues the string.'\n",
    "print(s)\n",
    "\n",
    "i = \\\n",
    "5\n",
    "\n",
    "j = 5\n",
    "print(i)\n",
    "print(j)"
   ]
  },
  {
   "cell_type": "markdown",
   "metadata": {},
   "source": [
    "## 运算符与表达式\n",
    "### 运算符\n",
    "需要注意的几个\n",
    "- `/` 除   13 / 3 == 4.33333333\n",
    "- `//` 整除  13 // 3 = 4 \n",
    "- `&` 按位与\n",
    "- `not` 布尔 “非”\n",
    "- `and` 布尔 “与”\n",
    "- `or`  布尔 “或”\n",
    "\n",
    "**求值顺序**\n",
    "https://docs.python.org/3/reference/expressions.html#operator-precedence\n",
    "优先级从低到高\n",
    "- `lambda` ：Lambda 表达式\n",
    "- `if - else` ：条件表达式\n",
    "- `or` ：布尔“或”\n",
    "- `and` ：布尔“与”\n",
    "- `not x` ：布尔“非”\n",
    "- `in, not in, is, is not, <, <=, >, >=, !=, == `：比较，包括成员资格测试（Membership Tests）和身份测试（Identity Tests）。\n",
    "-`|`：按位或\n",
    "- `^` ：按位异或\n",
    "- `&` ：按位与\n",
    "- `<<, >>` ：移动\n",
    "- `+, -` ：加与减\n",
    "- `\\*, /, //, %` ：乘、除、整除、取余\n",
    "- `+x, -x, ~x` ：正、负、按位取反\n",
    "- `\\*\\*` ：求幂\n",
    "- `x[index], x[index:index], x(arguments...), x.attribute` ：下标、切片、调用、属性引用\n",
    "- `(expressions...), [expressions...], {key: value...}, {expressions...}` ：表示绑定或元组、表示列表、表示字典、表示集合"
   ]
  },
  {
   "cell_type": "markdown",
   "metadata": {},
   "source": [
    "### 表达式"
   ]
  },
  {
   "cell_type": "code",
   "execution_count": 27,
   "metadata": {
    "collapsed": false
   },
   "outputs": [
    {
     "name": "stdout",
     "output_type": "stream",
     "text": [
      "Area is 10\n",
      "Perimeter is 14\n"
     ]
    }
   ],
   "source": [
    "length = 5\n",
    "breadth = 2\n",
    "area = length * breadth\n",
    "print('Area is', area)\n",
    "print('Perimeter is', 2 * (length + breadth))"
   ]
  },
  {
   "cell_type": "markdown",
   "metadata": {},
   "source": [
    "## 控制流"
   ]
  },
  {
   "cell_type": "markdown",
   "metadata": {},
   "source": [
    "### if 语句\n",
    "\n",
    "```python\n",
    "# else 可选\n",
    "if x:\n",
    "elif x:\n",
    "else:\n",
    "```\n"
   ]
  },
  {
   "cell_type": "code",
   "execution_count": 8,
   "metadata": {
    "collapsed": false
   },
   "outputs": [
    {
     "name": "stdout",
     "output_type": "stream",
     "text": [
      "Enter an integer : 10\n",
      "小了\n",
      "游戏结束\n"
     ]
    }
   ],
   "source": [
    "number = 23\n",
    "guess = int(input('Enter an integer : '))\n",
    "\n",
    "if guess == number:\n",
    "    print('恭喜猜对了')\n",
    "    print('(但是你并没有得到奖品)')\n",
    "elif guess < number:\n",
    "    print('小了')\n",
    "else:\n",
    "    print('大了')\n",
    "\n",
    "print(\"游戏结束\")"
   ]
  },
  {
   "cell_type": "markdown",
   "metadata": {},
   "source": [
    "### while 语句\n",
    "\n",
    "```python\n",
    "# else 可选\n",
    "while x:\n",
    "\n",
    "else:\n",
    "\n",
    "```"
   ]
  },
  {
   "cell_type": "code",
   "execution_count": 2,
   "metadata": {
    "collapsed": false,
    "scrolled": true
   },
   "outputs": [
    {
     "name": "stdout",
     "output_type": "stream",
     "text": [
      "Enter an integer : 10\n",
      "小了\n",
      "Enter an integer : 25\n",
      "大了\n",
      "Enter an integer : 23\n",
      "恭喜猜对了\n",
      "(但是你并没有得到奖品)\n",
      "while 结束\n",
      "游戏结束\n"
     ]
    }
   ],
   "source": [
    "number = 23\n",
    "running = True\n",
    "\n",
    "while running:\n",
    "    guess = int(input(\"Enter an integer : \"))\n",
    "    \n",
    "    if guess == number:\n",
    "        print('恭喜猜对了')\n",
    "        print('(但是你并没有得到奖品)')\n",
    "        \n",
    "        running = False\n",
    "    elif guess < number:\n",
    "        print('小了')\n",
    "    else:\n",
    "        print('大了')\n",
    "else:\n",
    "    print(\"while 结束\")\n",
    "    \n",
    "print(\"游戏结束\")"
   ]
  },
  {
   "cell_type": "markdown",
   "metadata": {},
   "source": [
    "###  for 循环\n",
    "`for...in` 会在对象中迭代  和其它语言差别较大，类似 java 中的 `for(int i : IntArray)`"
   ]
  },
  {
   "cell_type": "code",
   "execution_count": 3,
   "metadata": {
    "collapsed": false
   },
   "outputs": [
    {
     "name": "stdout",
     "output_type": "stream",
     "text": [
      "1\n",
      "2\n",
      "3\n",
      "4\n",
      "for 循环结束\n"
     ]
    }
   ],
   "source": [
    "for i in range(1,5):\n",
    "    print(i)\n",
    "else:\n",
    "    print(\"for 循环结束\")"
   ]
  },
  {
   "cell_type": "markdown",
   "metadata": {},
   "source": [
    "###  break 语句 \n",
    "中断循环"
   ]
  },
  {
   "cell_type": "code",
   "execution_count": 6,
   "metadata": {
    "collapsed": false
   },
   "outputs": [
    {
     "name": "stdout",
     "output_type": "stream",
     "text": [
      "Enter something : test\n",
      "Length of the string is 4\n",
      "Enter something : quit\n",
      "Done\n"
     ]
    }
   ],
   "source": [
    "while True:\n",
    "    s = input('Enter something : ')\n",
    "    if s == 'quit':\n",
    "        break\n",
    "    print('Length of the string is', len(s))\n",
    "print('Done')"
   ]
  },
  {
   "cell_type": "markdown",
   "metadata": {},
   "source": [
    "### continue 语句\n",
    "跳过循环中剩余语句，开始下一次迭代"
   ]
  },
  {
   "cell_type": "code",
   "execution_count": 1,
   "metadata": {
    "ExecuteTime": {
     "end_time": "2018-12-26T06:12:29.883018Z",
     "start_time": "2018-12-26T06:12:22.876902Z"
    },
    "collapsed": false,
    "scrolled": true
   },
   "outputs": [
    {
     "name": "stdout",
     "output_type": "stream",
     "text": [
      "Enter something : te\n",
      "Too small\n",
      "Enter something : aaa\n",
      "Input is of sufficient length\n",
      "Enter something : quit\n"
     ]
    }
   ],
   "source": [
    "while True:\n",
    "    s = input('Enter something : ')\n",
    "    if s == 'quit':\n",
    "        break\n",
    "    if len(s) < 3:\n",
    "        print('Too small')\n",
    "        continue\n",
    "    print('Input is of sufficient length')"
   ]
  },
  {
   "cell_type": "markdown",
   "metadata": {
    "collapsed": true
   },
   "source": [
    "## 函数"
   ]
  },
  {
   "cell_type": "code",
   "execution_count": 2,
   "metadata": {
    "ExecuteTime": {
     "end_time": "2018-12-26T11:43:05.402272Z",
     "start_time": "2018-12-26T11:43:05.368364Z"
    },
    "collapsed": false
   },
   "outputs": [
    {
     "name": "stdout",
     "output_type": "stream",
     "text": [
      "4 is maximum\n",
      "7 is maximum\n"
     ]
    }
   ],
   "source": [
    "def print_max(a, b):\n",
    "    if a > b:\n",
    "        print(a,\"is maximum\")\n",
    "    elif a == b:\n",
    "        print(a,\"is equal to\",b)\n",
    "    else:\n",
    "        print(b,\"is maximum\")\n",
    "        \n",
    "# 调用\n",
    "print_max(3,4)\n",
    "\n",
    "x = 5\n",
    "y = 7\n",
    "\n",
    "print_max(x,y)"
   ]
  },
  {
   "cell_type": "code",
   "execution_count": null,
   "metadata": {
    "collapsed": true
   },
   "outputs": [],
   "source": []
  }
 ],
 "metadata": {
  "anaconda-cloud": {},
  "kernelspec": {
   "display_name": "Python 3",
   "language": "python",
   "name": "python3"
  },
  "toc": {
   "base_numbering": 1,
   "nav_menu": {},
   "number_sections": true,
   "sideBar": true,
   "skip_h1_title": true,
   "title_cell": "Table of Contents",
   "title_sidebar": "Contents",
   "toc_cell": true,
   "toc_position": {
    "height": "calc(100% - 180px)",
    "left": "10px",
    "top": "150px",
    "width": "193px"
   },
   "toc_section_display": true,
   "toc_window_display": false
  }
 },
 "nbformat": 4,
 "nbformat_minor": 0
}
